{
 "cells": [
  {
   "cell_type": "markdown",
   "metadata": {},
   "source": [
    "# New structure dataset\n",
    "This notebook changes the structure for out dataset."
   ]
  },
  {
   "cell_type": "markdown",
   "metadata": {},
   "source": [
    "<br><br><br>\n",
    "# Libaries"
   ]
  },
  {
   "cell_type": "code",
   "execution_count": 195,
   "metadata": {},
   "outputs": [
    {
     "name": "stderr",
     "output_type": "stream",
     "text": [
      "C:\\Users\\Paulo\\AppData\\Local\\Continuum\\anaconda3\\lib\\site-packages\\ipykernel_launcher.py:7: FutureWarning: Passing a negative integer is deprecated in version 1.0 and will not be supported in future version. Instead, use None to not limit the column width.\n",
      "  import sys\n"
     ]
    }
   ],
   "source": [
    "# General libaries\n",
    "import os, shutil\n",
    "import pandas as pd\n",
    "import numpy as np\n",
    "import pickle\n",
    "\n",
    "pd.set_option('max_colwidth', -1)"
   ]
  },
  {
   "cell_type": "markdown",
   "metadata": {},
   "source": [
    "<br><br><br>\n",
    "# Global variables"
   ]
  },
  {
   "cell_type": "code",
   "execution_count": 196,
   "metadata": {},
   "outputs": [],
   "source": [
    "original_dataset_path = os.path.join(os.getcwd(), 'datasets', 'UTKface_inthewild')\n",
    "new_directory = os.path.join(os.getcwd(), 'datasets', 'UTKface-new-structure')"
   ]
  },
  {
   "cell_type": "markdown",
   "metadata": {},
   "source": [
    "<br><br><br>\n",
    "# Functions"
   ]
  },
  {
   "cell_type": "code",
   "execution_count": 209,
   "metadata": {},
   "outputs": [],
   "source": [
    "def extract_all_files(path):\n",
    "    \"\"\"\n",
    "    This function extracts al the files within a specific path.\n",
    "    \"\"\"\n",
    "\n",
    "    all_files = []\n",
    "\n",
    "    # Go through all the files in a our 'path' and extract all files\n",
    "    # and add those file paths to our 'all_files' list.\n",
    "    for (root,dirs,files) in os.walk(path, topdown=True): \n",
    "        if len(files) == 0: \n",
    "            continue\n",
    "\n",
    "        else: \n",
    "            all_files.extend([os.path.join(root, file) for file in files])\n",
    "\n",
    "    # Filter out the paths that include a jpg.\n",
    "    all_files = [file for file in all_files \n",
    "                 if file.endswith('.jpg')]\n",
    "\n",
    "    # Return the result\n",
    "    return all_files\n",
    "\n",
    "\n",
    "\n",
    "def create_data_frame_with_all_information_of_files(all_files):\n",
    "    \"\"\"\n",
    "    This function walks through all_files and extracts all the relevant\n",
    "    information.\n",
    "    \"\"\"  \n",
    "    df = pd.DataFrame(columns = ['path'], data = all_files)\n",
    "    \n",
    "    df['split']    = df['path'].apply(lambda x: x.split('\\\\')[-1].split('_'))\n",
    "    df             = df[df['split'].map(len) == 4]\n",
    "    \n",
    "    \n",
    "    df['age']      = df['split'].apply(lambda x: x[0])\n",
    "    df['gender']   = df['split'].apply(lambda x: x[1])\n",
    "    df['race']     = df['split'].apply(lambda x: x[2])\n",
    "    df['datetime'] = df['split'].apply(lambda x: x[3].split('.')[0])    \n",
    "    \n",
    "    df = df.drop(['split'], axis=1)\n",
    "    \n",
    "    return df[['age', 'gender', 'race', 'datetime', 'path']]"
   ]
  },
  {
   "cell_type": "markdown",
   "metadata": {},
   "source": [
    "<br><br><br>\n",
    "# Create dataframe"
   ]
  },
  {
   "cell_type": "code",
   "execution_count": 210,
   "metadata": {},
   "outputs": [
    {
     "name": "stdout",
     "output_type": "stream",
     "text": [
      "Lenght of the collected files from our path is:  24106\n"
     ]
    }
   ],
   "source": [
    "# Extract all the files of our dataset folder. This folder contains 3 subfolders\n",
    "# with each containing parts of our dataset.\n",
    "all_files = extract_all_files(original_dataset_path)\n",
    "print('Lenght of the collected files from our path is: ', len(all_files))"
   ]
  },
  {
   "cell_type": "code",
   "execution_count": 211,
   "metadata": {
    "scrolled": true
   },
   "outputs": [
    {
     "data": {
      "text/html": [
       "<div>\n",
       "<style scoped>\n",
       "    .dataframe tbody tr th:only-of-type {\n",
       "        vertical-align: middle;\n",
       "    }\n",
       "\n",
       "    .dataframe tbody tr th {\n",
       "        vertical-align: top;\n",
       "    }\n",
       "\n",
       "    .dataframe thead th {\n",
       "        text-align: right;\n",
       "    }\n",
       "</style>\n",
       "<table border=\"1\" class=\"dataframe\">\n",
       "  <thead>\n",
       "    <tr style=\"text-align: right;\">\n",
       "      <th></th>\n",
       "      <th>age</th>\n",
       "      <th>gender</th>\n",
       "      <th>race</th>\n",
       "      <th>datetime</th>\n",
       "      <th>path</th>\n",
       "    </tr>\n",
       "  </thead>\n",
       "  <tbody>\n",
       "    <tr>\n",
       "      <th>0</th>\n",
       "      <td>100</td>\n",
       "      <td>1</td>\n",
       "      <td>0</td>\n",
       "      <td>20170110183726390</td>\n",
       "      <td>C:\\Users\\Paulo\\Documents\\GitHub\\deep-learning-age-estimation\\notebooks\\datasets\\UTKface_inthewild\\part1\\100_1_0_20170110183726390.jpg</td>\n",
       "    </tr>\n",
       "    <tr>\n",
       "      <th>1</th>\n",
       "      <td>100</td>\n",
       "      <td>1</td>\n",
       "      <td>2</td>\n",
       "      <td>20170105174847679</td>\n",
       "      <td>C:\\Users\\Paulo\\Documents\\GitHub\\deep-learning-age-estimation\\notebooks\\datasets\\UTKface_inthewild\\part1\\100_1_2_20170105174847679.jpg</td>\n",
       "    </tr>\n",
       "    <tr>\n",
       "      <th>2</th>\n",
       "      <td>100</td>\n",
       "      <td>1</td>\n",
       "      <td>2</td>\n",
       "      <td>20170110182836729</td>\n",
       "      <td>C:\\Users\\Paulo\\Documents\\GitHub\\deep-learning-age-estimation\\notebooks\\datasets\\UTKface_inthewild\\part1\\100_1_2_20170110182836729.jpg</td>\n",
       "    </tr>\n",
       "    <tr>\n",
       "      <th>3</th>\n",
       "      <td>101</td>\n",
       "      <td>1</td>\n",
       "      <td>2</td>\n",
       "      <td>20170105174739309</td>\n",
       "      <td>C:\\Users\\Paulo\\Documents\\GitHub\\deep-learning-age-estimation\\notebooks\\datasets\\UTKface_inthewild\\part1\\101_1_2_20170105174739309.jpg</td>\n",
       "    </tr>\n",
       "    <tr>\n",
       "      <th>4</th>\n",
       "      <td>10</td>\n",
       "      <td>0</td>\n",
       "      <td>0</td>\n",
       "      <td>20161220222308131</td>\n",
       "      <td>C:\\Users\\Paulo\\Documents\\GitHub\\deep-learning-age-estimation\\notebooks\\datasets\\UTKface_inthewild\\part1\\10_0_0_20161220222308131.jpg</td>\n",
       "    </tr>\n",
       "  </tbody>\n",
       "</table>\n",
       "</div>"
      ],
      "text/plain": [
       "   age gender race           datetime  \\\n",
       "0  100  1      0    20170110183726390   \n",
       "1  100  1      2    20170105174847679   \n",
       "2  100  1      2    20170110182836729   \n",
       "3  101  1      2    20170105174739309   \n",
       "4  10   0      0    20161220222308131   \n",
       "\n",
       "                                                                                                                                    path  \n",
       "0  C:\\Users\\Paulo\\Documents\\GitHub\\deep-learning-age-estimation\\notebooks\\datasets\\UTKface_inthewild\\part1\\100_1_0_20170110183726390.jpg  \n",
       "1  C:\\Users\\Paulo\\Documents\\GitHub\\deep-learning-age-estimation\\notebooks\\datasets\\UTKface_inthewild\\part1\\100_1_2_20170105174847679.jpg  \n",
       "2  C:\\Users\\Paulo\\Documents\\GitHub\\deep-learning-age-estimation\\notebooks\\datasets\\UTKface_inthewild\\part1\\100_1_2_20170110182836729.jpg  \n",
       "3  C:\\Users\\Paulo\\Documents\\GitHub\\deep-learning-age-estimation\\notebooks\\datasets\\UTKface_inthewild\\part1\\101_1_2_20170105174739309.jpg  \n",
       "4  C:\\Users\\Paulo\\Documents\\GitHub\\deep-learning-age-estimation\\notebooks\\datasets\\UTKface_inthewild\\part1\\10_0_0_20161220222308131.jpg   "
      ]
     },
     "metadata": {},
     "output_type": "display_data"
    }
   ],
   "source": [
    "# We use the image paths to create a dataframe containing all our data. We also\n",
    "# pickle the dataframe so we can easily re-use it later without running this\n",
    "# function again.\n",
    "df = create_data_frame_with_all_information_of_files(all_files)\n",
    "\n",
    "display(df.head())\n",
    "\n",
    "\n",
    "# Pickle the result\n",
    "with open('df.pkl', 'wb') as output_file:\n",
    "    pickle.dump(df, output_file)"
   ]
  },
  {
   "cell_type": "code",
   "execution_count": 212,
   "metadata": {},
   "outputs": [
    {
     "data": {
      "text/plain": [
       "24103"
      ]
     },
     "metadata": {},
     "output_type": "display_data"
    },
    {
     "data": {
      "text/html": [
       "<div>\n",
       "<style scoped>\n",
       "    .dataframe tbody tr th:only-of-type {\n",
       "        vertical-align: middle;\n",
       "    }\n",
       "\n",
       "    .dataframe tbody tr th {\n",
       "        vertical-align: top;\n",
       "    }\n",
       "\n",
       "    .dataframe thead th {\n",
       "        text-align: right;\n",
       "    }\n",
       "</style>\n",
       "<table border=\"1\" class=\"dataframe\">\n",
       "  <thead>\n",
       "    <tr style=\"text-align: right;\">\n",
       "      <th></th>\n",
       "      <th>age</th>\n",
       "      <th>gender</th>\n",
       "      <th>race</th>\n",
       "      <th>datetime</th>\n",
       "      <th>path</th>\n",
       "    </tr>\n",
       "  </thead>\n",
       "  <tbody>\n",
       "    <tr>\n",
       "      <th>0</th>\n",
       "      <td>100</td>\n",
       "      <td>1</td>\n",
       "      <td>0</td>\n",
       "      <td>20170110183726390</td>\n",
       "      <td>C:\\Users\\Paulo\\Documents\\GitHub\\deep-learning-age-estimation\\notebooks\\datasets\\UTKface_inthewild\\part1\\100_1_0_20170110183726390.jpg</td>\n",
       "    </tr>\n",
       "    <tr>\n",
       "      <th>1</th>\n",
       "      <td>100</td>\n",
       "      <td>1</td>\n",
       "      <td>2</td>\n",
       "      <td>20170105174847679</td>\n",
       "      <td>C:\\Users\\Paulo\\Documents\\GitHub\\deep-learning-age-estimation\\notebooks\\datasets\\UTKface_inthewild\\part1\\100_1_2_20170105174847679.jpg</td>\n",
       "    </tr>\n",
       "    <tr>\n",
       "      <th>2</th>\n",
       "      <td>100</td>\n",
       "      <td>1</td>\n",
       "      <td>2</td>\n",
       "      <td>20170110182836729</td>\n",
       "      <td>C:\\Users\\Paulo\\Documents\\GitHub\\deep-learning-age-estimation\\notebooks\\datasets\\UTKface_inthewild\\part1\\100_1_2_20170110182836729.jpg</td>\n",
       "    </tr>\n",
       "    <tr>\n",
       "      <th>3</th>\n",
       "      <td>101</td>\n",
       "      <td>1</td>\n",
       "      <td>2</td>\n",
       "      <td>20170105174739309</td>\n",
       "      <td>C:\\Users\\Paulo\\Documents\\GitHub\\deep-learning-age-estimation\\notebooks\\datasets\\UTKface_inthewild\\part1\\101_1_2_20170105174739309.jpg</td>\n",
       "    </tr>\n",
       "    <tr>\n",
       "      <th>4</th>\n",
       "      <td>10</td>\n",
       "      <td>0</td>\n",
       "      <td>0</td>\n",
       "      <td>20161220222308131</td>\n",
       "      <td>C:\\Users\\Paulo\\Documents\\GitHub\\deep-learning-age-estimation\\notebooks\\datasets\\UTKface_inthewild\\part1\\10_0_0_20161220222308131.jpg</td>\n",
       "    </tr>\n",
       "  </tbody>\n",
       "</table>\n",
       "</div>"
      ],
      "text/plain": [
       "   age gender race           datetime  \\\n",
       "0  100  1      0    20170110183726390   \n",
       "1  100  1      2    20170105174847679   \n",
       "2  100  1      2    20170110182836729   \n",
       "3  101  1      2    20170105174739309   \n",
       "4  10   0      0    20161220222308131   \n",
       "\n",
       "                                                                                                                                    path  \n",
       "0  C:\\Users\\Paulo\\Documents\\GitHub\\deep-learning-age-estimation\\notebooks\\datasets\\UTKface_inthewild\\part1\\100_1_0_20170110183726390.jpg  \n",
       "1  C:\\Users\\Paulo\\Documents\\GitHub\\deep-learning-age-estimation\\notebooks\\datasets\\UTKface_inthewild\\part1\\100_1_2_20170105174847679.jpg  \n",
       "2  C:\\Users\\Paulo\\Documents\\GitHub\\deep-learning-age-estimation\\notebooks\\datasets\\UTKface_inthewild\\part1\\100_1_2_20170110182836729.jpg  \n",
       "3  C:\\Users\\Paulo\\Documents\\GitHub\\deep-learning-age-estimation\\notebooks\\datasets\\UTKface_inthewild\\part1\\101_1_2_20170105174739309.jpg  \n",
       "4  C:\\Users\\Paulo\\Documents\\GitHub\\deep-learning-age-estimation\\notebooks\\datasets\\UTKface_inthewild\\part1\\10_0_0_20161220222308131.jpg   "
      ]
     },
     "execution_count": 212,
     "metadata": {},
     "output_type": "execute_result"
    }
   ],
   "source": [
    "# Open saved pickle file and test the saved df.\n",
    "with open('df.pkl', 'rb') as input_file:\n",
    "    df = pickle.load(input_file)\n",
    "\n",
    "display(len(df))\n",
    "df.head()"
   ]
  },
  {
   "cell_type": "markdown",
   "metadata": {},
   "source": [
    "<br><br><br>\n",
    "# Create new folder structure"
   ]
  },
  {
   "cell_type": "code",
   "execution_count": 203,
   "metadata": {},
   "outputs": [
    {
     "name": "stdout",
     "output_type": "stream",
     "text": [
      "Successfully created the directory C:\\Users\\Paulo\\Documents\\GitHub\\deep-learning-age-estimation\\notebooks\\datasets\\UTKface-new-structure\\training  \n",
      "\n",
      "\n",
      "Successfully created the directory C:\\Users\\Paulo\\Documents\\GitHub\\deep-learning-age-estimation\\notebooks\\datasets\\UTKface-new-structure\\validation  \n",
      "\n",
      "\n",
      "Successfully created the directory C:\\Users\\Paulo\\Documents\\GitHub\\deep-learning-age-estimation\\notebooks\\datasets\\UTKface-new-structure\\test  \n",
      "\n",
      "\n",
      "Wall time: 3 ms\n"
     ]
    }
   ],
   "source": [
    "%%time\n",
    "\n",
    "# Create folders for training, validation and testing\n",
    "TRAINING_VALIDATION_TESTING_FOLDERS = ['training', 'validation', 'test']\n",
    "TRAINING_VALIDATION_TESTING_FOLDERS = [os.path.join(new_directory, folder) for folder in TRAINING_VALIDATION_TESTING_FOLDERS]\n",
    "\n",
    "\n",
    "# Creating all categories as folders\n",
    "for new_folder in TRAINING_VALIDATION_TESTING_FOLDERS:\n",
    "    try:\n",
    "        os.mkdir(new_folder)\n",
    "    except OSError:\n",
    "        print (\"Creation of the directory %s failed    \\n\\n\" % new_folder)\n",
    "    else:\n",
    "        print (\"Successfully created the directory %s  \\n\\n\" % new_folder)"
   ]
  },
  {
   "cell_type": "code",
   "execution_count": 204,
   "metadata": {},
   "outputs": [
    {
     "name": "stdout",
     "output_type": "stream",
     "text": [
      "Finished with TRAINING_CATEGORIES\n",
      "Finished with VALIDATION_CATEGORIES\n",
      "Finished with TEST_CATEGORIES\n",
      "Wall time: 334 ms\n"
     ]
    }
   ],
   "source": [
    "%%time\n",
    "\n",
    "# Creating all categories as folders\n",
    "CATEGORIES = list(range(0, 117))\n",
    "TRAINING_CATEGORIES = [os.path.join(TRAINING_VALIDATION_TESTING_FOLDERS[0], str(CATEGORY)) for CATEGORY in CATEGORIES]\n",
    "VALIDATION_CATEGORIES = [os.path.join(TRAINING_VALIDATION_TESTING_FOLDERS[1], str(CATEGORY)) for CATEGORY in CATEGORIES]\n",
    "TEST_CATEGORIES = [os.path.join(TRAINING_VALIDATION_TESTING_FOLDERS[2], str(CATEGORY)) for CATEGORY in CATEGORIES]\n",
    "\n",
    "\n",
    "for new_folder in TRAINING_CATEGORIES:\n",
    "    try:\n",
    "        os.mkdir(new_folder)\n",
    "    except OSError:\n",
    "        print(\"Creation of the directory %s failed    \\n\\n\" % new_folder)\n",
    "\n",
    "print('Finished with TRAINING_CATEGORIES')\n",
    "\n",
    "\n",
    "\n",
    "for new_folder in VALIDATION_CATEGORIES:\n",
    "    try:\n",
    "        os.mkdir(new_folder)\n",
    "    except OSError:\n",
    "        print(\"Creation of the directory %s failed    \\n\\n\" % new_folder)\n",
    "\n",
    "print('Finished with VALIDATION_CATEGORIES')\n",
    "\n",
    "\n",
    "\n",
    "for new_folder in TEST_CATEGORIES:\n",
    "    try:\n",
    "        os.mkdir(new_folder)\n",
    "    except OSError:\n",
    "        print(\"Creation of the directory %s failed    \\n\\n\" % new_folder)\n",
    "\n",
    "print('Finished with TEST_CATEGORIES')"
   ]
  },
  {
   "cell_type": "markdown",
   "metadata": {},
   "source": [
    "<br><br><br>\n",
    "# Split data"
   ]
  },
  {
   "cell_type": "code",
   "execution_count": 205,
   "metadata": {},
   "outputs": [
    {
     "name": "stdout",
     "output_type": "stream",
     "text": [
      "Length training:    16824\n",
      "Length validation:  4869\n",
      "Length test:        2410\n"
     ]
    }
   ],
   "source": [
    "# Split the dataframe into train, validation and test\n",
    "probs = np.random.rand(len(df))\n",
    "training_mask = probs < 0.7\n",
    "validation_mask = (probs>=0.7) & (probs < 0.9)\n",
    "test_mask  = probs >= 0.9\n",
    "\n",
    "\n",
    "df_training = df[training_mask]\n",
    "df_validation = df[validation_mask]\n",
    "df_test = df[test_mask]\n",
    "\n",
    "print('Length training:   ', len(df_training))\n",
    "print('Length validation: ', len(df_validation))\n",
    "print('Length test:       ', len(df_test))"
   ]
  },
  {
   "cell_type": "code",
   "execution_count": 206,
   "metadata": {},
   "outputs": [
    {
     "name": "stdout",
     "output_type": "stream",
     "text": [
      "Overlapping paths in training and validation? Answer:  False\n",
      "Overlapping paths in training and test? Answer:        False\n",
      "Overlapping paths in validation and test? Answer:      False\n"
     ]
    }
   ],
   "source": [
    "# Check if the splitting up the dataframe was done correctly (if yes, then both df have one or more overlapping rows)\n",
    "print('Overlapping paths in training and validation? Answer: ', bool(set(df_training['path']) & set(df_validation['path'])))\n",
    "print('Overlapping paths in training and test? Answer:       ', bool(set(df_training['path']) & set(df_test['path'])))\n",
    "print('Overlapping paths in validation and test? Answer:     ', bool(set(df_validation['path']) & set(df_test['path'])))"
   ]
  },
  {
   "cell_type": "markdown",
   "metadata": {},
   "source": [
    "<br><br><br>\n",
    "# Move images"
   ]
  },
  {
   "cell_type": "code",
   "execution_count": 213,
   "metadata": {},
   "outputs": [],
   "source": [
    "TRAINING_PATH   = TRAINING_VALIDATION_TESTING_FOLDERS[0]\n",
    "VALIDATION_PATH = TRAINING_VALIDATION_TESTING_FOLDERS[1]\n",
    "TEST_PATH       = TRAINING_VALIDATION_TESTING_FOLDERS[2]\n",
    "\n",
    "df_training['new-path']   = df_training['age'].apply(lambda x: os.path.join(TRAINING_PATH, x))\n",
    "df_validation['new-path'] = df_validation['age'].apply(lambda x: os.path.join(VALIDATION_PATH, x))\n",
    "df_test['new-path']       = df_test['age'].apply(lambda x: os.path.join(TEST_PATH, x))"
   ]
  },
  {
   "cell_type": "code",
   "execution_count": 233,
   "metadata": {},
   "outputs": [
    {
     "data": {
      "text/html": [
       "<div>\n",
       "<style scoped>\n",
       "    .dataframe tbody tr th:only-of-type {\n",
       "        vertical-align: middle;\n",
       "    }\n",
       "\n",
       "    .dataframe tbody tr th {\n",
       "        vertical-align: top;\n",
       "    }\n",
       "\n",
       "    .dataframe thead th {\n",
       "        text-align: right;\n",
       "    }\n",
       "</style>\n",
       "<table border=\"1\" class=\"dataframe\">\n",
       "  <thead>\n",
       "    <tr style=\"text-align: right;\">\n",
       "      <th></th>\n",
       "      <th>age</th>\n",
       "      <th>gender</th>\n",
       "      <th>race</th>\n",
       "      <th>datetime</th>\n",
       "      <th>category</th>\n",
       "      <th>path</th>\n",
       "    </tr>\n",
       "  </thead>\n",
       "  <tbody>\n",
       "    <tr>\n",
       "      <th>0</th>\n",
       "      <td>100</td>\n",
       "      <td>1</td>\n",
       "      <td>0</td>\n",
       "      <td>20170110183726390</td>\n",
       "      <td>training</td>\n",
       "      <td>C:\\Users\\Paulo\\Documents\\GitHub\\deep-learning-age-estimation\\notebooks\\datasets\\UTKface-new-structure\\training\\100</td>\n",
       "    </tr>\n",
       "    <tr>\n",
       "      <th>1</th>\n",
       "      <td>100</td>\n",
       "      <td>1</td>\n",
       "      <td>2</td>\n",
       "      <td>20170105174847679</td>\n",
       "      <td>training</td>\n",
       "      <td>C:\\Users\\Paulo\\Documents\\GitHub\\deep-learning-age-estimation\\notebooks\\datasets\\UTKface-new-structure\\training\\100</td>\n",
       "    </tr>\n",
       "    <tr>\n",
       "      <th>2</th>\n",
       "      <td>100</td>\n",
       "      <td>1</td>\n",
       "      <td>2</td>\n",
       "      <td>20170110182836729</td>\n",
       "      <td>training</td>\n",
       "      <td>C:\\Users\\Paulo\\Documents\\GitHub\\deep-learning-age-estimation\\notebooks\\datasets\\UTKface-new-structure\\training\\100</td>\n",
       "    </tr>\n",
       "    <tr>\n",
       "      <th>3</th>\n",
       "      <td>101</td>\n",
       "      <td>1</td>\n",
       "      <td>2</td>\n",
       "      <td>20170105174739309</td>\n",
       "      <td>training</td>\n",
       "      <td>C:\\Users\\Paulo\\Documents\\GitHub\\deep-learning-age-estimation\\notebooks\\datasets\\UTKface-new-structure\\training\\101</td>\n",
       "    </tr>\n",
       "    <tr>\n",
       "      <th>4</th>\n",
       "      <td>10</td>\n",
       "      <td>0</td>\n",
       "      <td>0</td>\n",
       "      <td>20161220222308131</td>\n",
       "      <td>training</td>\n",
       "      <td>C:\\Users\\Paulo\\Documents\\GitHub\\deep-learning-age-estimation\\notebooks\\datasets\\UTKface-new-structure\\training\\10</td>\n",
       "    </tr>\n",
       "  </tbody>\n",
       "</table>\n",
       "</div>"
      ],
      "text/plain": [
       "   age gender race           datetime  category  \\\n",
       "0  100  1      0    20170110183726390  training   \n",
       "1  100  1      2    20170105174847679  training   \n",
       "2  100  1      2    20170110182836729  training   \n",
       "3  101  1      2    20170105174739309  training   \n",
       "4  10   0      0    20161220222308131  training   \n",
       "\n",
       "                                                                                                                 path  \n",
       "0  C:\\Users\\Paulo\\Documents\\GitHub\\deep-learning-age-estimation\\notebooks\\datasets\\UTKface-new-structure\\training\\100  \n",
       "1  C:\\Users\\Paulo\\Documents\\GitHub\\deep-learning-age-estimation\\notebooks\\datasets\\UTKface-new-structure\\training\\100  \n",
       "2  C:\\Users\\Paulo\\Documents\\GitHub\\deep-learning-age-estimation\\notebooks\\datasets\\UTKface-new-structure\\training\\100  \n",
       "3  C:\\Users\\Paulo\\Documents\\GitHub\\deep-learning-age-estimation\\notebooks\\datasets\\UTKface-new-structure\\training\\101  \n",
       "4  C:\\Users\\Paulo\\Documents\\GitHub\\deep-learning-age-estimation\\notebooks\\datasets\\UTKface-new-structure\\training\\10   "
      ]
     },
     "metadata": {},
     "output_type": "display_data"
    }
   ],
   "source": [
    "# Combine the results to one dataframe\n",
    "def correct_category(path):\n",
    "    if 'training' in path:\n",
    "        return 'training'\n",
    "    \n",
    "    elif 'validation' in path:\n",
    "        return 'validation'\n",
    "    \n",
    "    elif 'test' in path:\n",
    "        return 'test'\n",
    "    \n",
    "    else:\n",
    "        return None\n",
    "    \n",
    "df = df_training.append(df_validation).append(df_test).sort_index()\n",
    "df['category'] = df['new-path'].apply(lambda x: correct_category(x))\n",
    "df['path'] = df['new-path']\n",
    "df = df.drop(['new-path'], axis=1)\n",
    "df = df[['age', 'gender', 'race', 'datetime', 'category', 'path']]\n",
    "\n",
    "display(df.head())\n",
    "\n",
    "\n",
    "# Pickle the result\n",
    "with open('df.pkl', 'wb') as output_file:\n",
    "    pickle.dump(df, output_file)"
   ]
  },
  {
   "cell_type": "code",
   "execution_count": 217,
   "metadata": {},
   "outputs": [
    {
     "name": "stdout",
     "output_type": "stream",
     "text": [
      "Wall time: 2min 6s\n"
     ]
    }
   ],
   "source": [
    "%%time \n",
    "\n",
    "# Move all the newly defined trainings data\n",
    "for index, row in df_training.iterrows():\n",
    "    shutil.copy(row['path'], row['new-path'])\n",
    "    \n",
    "# Move all the newly defined validation data\n",
    "for index, row in df_validation.iterrows():\n",
    "    shutil.copy(row['path'], row['new-path'])\n",
    "\n",
    "# Move all the newly defined test data\n",
    "for index, row in df_test.iterrows():\n",
    "    shutil.copy(row['path'], row['new-path'])"
   ]
  },
  {
   "cell_type": "code",
   "execution_count": 218,
   "metadata": {},
   "outputs": [
    {
     "name": "stdout",
     "output_type": "stream",
     "text": [
      "Lenght of the collected files from our path is:  24103\n"
     ]
    }
   ],
   "source": [
    "# Extract all the files of our dataset folder. This folder contains 3 subfolders\n",
    "# with each containing parts of our dataset.\n",
    "all_files = extract_all_files(new_directory)\n",
    "print('Lenght of the collected files from our path is: ', len(all_files))"
   ]
  }
 ],
 "metadata": {
  "kernelspec": {
   "display_name": "Python 3",
   "language": "python",
   "name": "python3"
  },
  "language_info": {
   "codemirror_mode": {
    "name": "ipython",
    "version": 3
   },
   "file_extension": ".py",
   "mimetype": "text/x-python",
   "name": "python",
   "nbconvert_exporter": "python",
   "pygments_lexer": "ipython3",
   "version": "3.7.6"
  }
 },
 "nbformat": 4,
 "nbformat_minor": 4
}
