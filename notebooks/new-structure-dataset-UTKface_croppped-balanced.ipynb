{
 "cells": [
  {
   "cell_type": "markdown",
   "metadata": {},
   "source": [
    "# New structure dataset\n",
    "This notebook changes the folder structure for our CROPPED dataset, we also choose to balance the dataset. It is now very imbalanced.\n",
    "\n",
    "It takes as input the folder containing the cropped dataset and outputs in another folder the training, validation and test set."
   ]
  },
  {
   "cell_type": "markdown",
   "metadata": {},
   "source": [
    "<br><br><br>\n",
    "# Libaries"
   ]
  },
  {
   "cell_type": "code",
   "execution_count": 1,
   "metadata": {},
   "outputs": [
    {
     "name": "stderr",
     "output_type": "stream",
     "text": [
      "C:\\Users\\Paulo\\AppData\\Local\\Continuum\\anaconda3\\lib\\site-packages\\ipykernel_launcher.py:8: FutureWarning: Passing a negative integer is deprecated in version 1.0 and will not be supported in future version. Instead, use None to not limit the column width.\n",
      "  \n"
     ]
    }
   ],
   "source": [
    "# General libaries\n",
    "import os, shutil\n",
    "import pandas as pd\n",
    "import numpy as np\n",
    "import pickle\n",
    "import copy\n",
    "\n",
    "pd.set_option('max_colwidth', -1)\n",
    "pd.set_option(\"display.max_rows\", 100)"
   ]
  },
  {
   "cell_type": "markdown",
   "metadata": {},
   "source": [
    "<br><br><br>\n",
    "# Global variables"
   ]
  },
  {
   "cell_type": "code",
   "execution_count": 2,
   "metadata": {},
   "outputs": [],
   "source": [
    "original_dataset_path = os.path.join(os.getcwd(), 'datasets', 'UTKface_cropped')\n",
    "new_directory = os.path.join(os.getcwd(), 'datasets', 'UTKface_cropped-new-structure-balanced')"
   ]
  },
  {
   "cell_type": "markdown",
   "metadata": {},
   "source": [
    "<br><br><br>\n",
    "# Functions"
   ]
  },
  {
   "cell_type": "code",
   "execution_count": 3,
   "metadata": {},
   "outputs": [],
   "source": [
    "def extract_all_files(path):\n",
    "    \"\"\"\n",
    "    This function extracts al the files within a specific path.\n",
    "    \"\"\"\n",
    "\n",
    "    all_files = []\n",
    "\n",
    "    # Go through all the files in a our 'path' and extract all files\n",
    "    # and add those file paths to our 'all_files' list.\n",
    "    for (root,dirs,files) in os.walk(path, topdown=True): \n",
    "        if len(files) == 0: \n",
    "            continue\n",
    "\n",
    "        else: \n",
    "            all_files.extend([os.path.join(root, file) for file in files])\n",
    "\n",
    "    # Filter out the paths that include a jpg.\n",
    "    all_files = [file for file in all_files \n",
    "                 if file.endswith('.jpg')]\n",
    "\n",
    "    # Return the result\n",
    "    return all_files\n",
    "\n",
    "\n",
    "\n",
    "def create_data_frame_with_all_information_of_files(all_files):\n",
    "    \"\"\"\n",
    "    This function walks through all_files and extracts all the relevant\n",
    "    information.\n",
    "    \"\"\"  \n",
    "    df = pd.DataFrame(columns = ['path'], data = all_files)\n",
    "    \n",
    "    df['split']    = df['path'].apply(lambda x: x.split('\\\\')[-1].split('_'))\n",
    "    df             = df[df['split'].map(len) == 4]\n",
    "    \n",
    "    \n",
    "    df['age']      = df['split'].apply(lambda x: x[0])\n",
    "    df['gender']   = df['split'].apply(lambda x: x[1])\n",
    "    df['race']     = df['split'].apply(lambda x: x[2])\n",
    "    df['datetime'] = df['split'].apply(lambda x: x[3].split('.')[0])    \n",
    "    \n",
    "    df = df.drop(['split'], axis=1)\n",
    "    \n",
    "    return df[['age', 'gender', 'race', 'datetime', 'path']]"
   ]
  },
  {
   "cell_type": "markdown",
   "metadata": {},
   "source": [
    "<br><br><br>\n",
    "# Create dataframe"
   ]
  },
  {
   "cell_type": "code",
   "execution_count": 4,
   "metadata": {},
   "outputs": [
    {
     "name": "stdout",
     "output_type": "stream",
     "text": [
      "Lenght of the collected files from our path is:  23708\n"
     ]
    }
   ],
   "source": [
    "# Extract all the files of our dataset folder. This folder contains 3 subfolders\n",
    "# with each containing parts of our dataset.\n",
    "all_files = extract_all_files(original_dataset_path)\n",
    "print('Lenght of the collected files from our path is: ', len(all_files))"
   ]
  },
  {
   "cell_type": "code",
   "execution_count": 5,
   "metadata": {
    "scrolled": true
   },
   "outputs": [
    {
     "data": {
      "text/plain": [
       "(22480, 5)"
      ]
     },
     "metadata": {},
     "output_type": "display_data"
    },
    {
     "data": {
      "text/html": [
       "<div>\n",
       "<style scoped>\n",
       "    .dataframe tbody tr th:only-of-type {\n",
       "        vertical-align: middle;\n",
       "    }\n",
       "\n",
       "    .dataframe tbody tr th {\n",
       "        vertical-align: top;\n",
       "    }\n",
       "\n",
       "    .dataframe thead th {\n",
       "        text-align: right;\n",
       "    }\n",
       "</style>\n",
       "<table border=\"1\" class=\"dataframe\">\n",
       "  <thead>\n",
       "    <tr style=\"text-align: right;\">\n",
       "      <th></th>\n",
       "      <th>age</th>\n",
       "      <th>gender</th>\n",
       "      <th>race</th>\n",
       "      <th>datetime</th>\n",
       "      <th>path</th>\n",
       "    </tr>\n",
       "  </thead>\n",
       "  <tbody>\n",
       "    <tr>\n",
       "      <th>19</th>\n",
       "      <td>10</td>\n",
       "      <td>0</td>\n",
       "      <td>0</td>\n",
       "      <td>20161220222308131</td>\n",
       "      <td>C:\\Users\\Paulo\\Documents\\GitHub\\deep-learning-age-estimation\\notebooks\\datasets\\UTKface_cropped\\10_0_0_20161220222308131.jpg.chip.jpg</td>\n",
       "    </tr>\n",
       "    <tr>\n",
       "      <th>20</th>\n",
       "      <td>10</td>\n",
       "      <td>0</td>\n",
       "      <td>0</td>\n",
       "      <td>20170103200329407</td>\n",
       "      <td>C:\\Users\\Paulo\\Documents\\GitHub\\deep-learning-age-estimation\\notebooks\\datasets\\UTKface_cropped\\10_0_0_20170103200329407.jpg.chip.jpg</td>\n",
       "    </tr>\n",
       "    <tr>\n",
       "      <th>21</th>\n",
       "      <td>10</td>\n",
       "      <td>0</td>\n",
       "      <td>0</td>\n",
       "      <td>20170103200522151</td>\n",
       "      <td>C:\\Users\\Paulo\\Documents\\GitHub\\deep-learning-age-estimation\\notebooks\\datasets\\UTKface_cropped\\10_0_0_20170103200522151.jpg.chip.jpg</td>\n",
       "    </tr>\n",
       "    <tr>\n",
       "      <th>22</th>\n",
       "      <td>10</td>\n",
       "      <td>0</td>\n",
       "      <td>0</td>\n",
       "      <td>20170103233459275</td>\n",
       "      <td>C:\\Users\\Paulo\\Documents\\GitHub\\deep-learning-age-estimation\\notebooks\\datasets\\UTKface_cropped\\10_0_0_20170103233459275.jpg.chip.jpg</td>\n",
       "    </tr>\n",
       "    <tr>\n",
       "      <th>23</th>\n",
       "      <td>10</td>\n",
       "      <td>0</td>\n",
       "      <td>0</td>\n",
       "      <td>20170104013211746</td>\n",
       "      <td>C:\\Users\\Paulo\\Documents\\GitHub\\deep-learning-age-estimation\\notebooks\\datasets\\UTKface_cropped\\10_0_0_20170104013211746.jpg.chip.jpg</td>\n",
       "    </tr>\n",
       "  </tbody>\n",
       "</table>\n",
       "</div>"
      ],
      "text/plain": [
       "    age gender race           datetime  \\\n",
       "19  10   0      0    20161220222308131   \n",
       "20  10   0      0    20170103200329407   \n",
       "21  10   0      0    20170103200522151   \n",
       "22  10   0      0    20170103233459275   \n",
       "23  10   0      0    20170104013211746   \n",
       "\n",
       "                                                                                                                                     path  \n",
       "19  C:\\Users\\Paulo\\Documents\\GitHub\\deep-learning-age-estimation\\notebooks\\datasets\\UTKface_cropped\\10_0_0_20161220222308131.jpg.chip.jpg  \n",
       "20  C:\\Users\\Paulo\\Documents\\GitHub\\deep-learning-age-estimation\\notebooks\\datasets\\UTKface_cropped\\10_0_0_20170103200329407.jpg.chip.jpg  \n",
       "21  C:\\Users\\Paulo\\Documents\\GitHub\\deep-learning-age-estimation\\notebooks\\datasets\\UTKface_cropped\\10_0_0_20170103200522151.jpg.chip.jpg  \n",
       "22  C:\\Users\\Paulo\\Documents\\GitHub\\deep-learning-age-estimation\\notebooks\\datasets\\UTKface_cropped\\10_0_0_20170103233459275.jpg.chip.jpg  \n",
       "23  C:\\Users\\Paulo\\Documents\\GitHub\\deep-learning-age-estimation\\notebooks\\datasets\\UTKface_cropped\\10_0_0_20170104013211746.jpg.chip.jpg  "
      ]
     },
     "metadata": {},
     "output_type": "display_data"
    }
   ],
   "source": [
    "# We use the image paths to create a dataframe containing all our data.\n",
    "df = create_data_frame_with_all_information_of_files(all_files)\n",
    "\n",
    "# Drop everything above 70 (just like a paper)\n",
    "df['age'] = df['age'].astype('int')\n",
    "df = df[df['age'] <= 70]\n",
    "\n",
    "display(df.shape)\n",
    "display(df.head())"
   ]
  },
  {
   "cell_type": "code",
   "execution_count": 6,
   "metadata": {
    "scrolled": false
   },
   "outputs": [
    {
     "name": "stdout",
     "output_type": "stream",
     "text": [
      "We see that the bins are not even.\n",
      "\n",
      "(0, 10]     3218\n",
      "(10, 20]    1659\n",
      "(20, 30]    7784\n",
      "(30, 40]    4338\n",
      "(40, 50]    2100\n",
      "(50, 60]    2211\n",
      "(60, 70]    1170\n",
      "Name: age-binned, dtype: int64 \n",
      "\n"
     ]
    },
    {
     "data": {
      "text/plain": [
       "<matplotlib.axes._subplots.AxesSubplot at 0x1ba464ce648>"
      ]
     },
     "execution_count": 6,
     "metadata": {},
     "output_type": "execute_result"
    },
    {
     "data": {
      "image/png": "[encoded data removed]",
      "text/plain": [
       "<Figure size 432x288 with 1 Axes>"
      ]
     },
     "metadata": {
      "needs_background": "light"
     },
     "output_type": "display_data"
    }
   ],
   "source": [
    "# Create bins\n",
    "bins = [0, 10, 20, 30, 40, 50, 60, 70]\n",
    "\n",
    "df['age-binned'] = pd.cut(df['age'], bins)\n",
    "\n",
    "# Print results\n",
    "print('We see that the bins are not even.\\n')\n",
    "print(df['age-binned'].value_counts().sort_index(), '\\n')\n",
    "\n",
    "pd.DataFrame(df['age-binned'].value_counts()).sort_index().plot.bar(rot=0)"
   ]
  },
  {
   "cell_type": "markdown",
   "metadata": {},
   "source": [
    "<br><br><br>\n",
    "# Balance the data/dataframe"
   ]
  },
  {
   "cell_type": "code",
   "execution_count": 7,
   "metadata": {},
   "outputs": [],
   "source": [
    "def balance_dataframe(df):\n",
    "    df_copy = copy.deepcopy(df)\n",
    "    \n",
    "    # Extract all the value counts for the binned ages\n",
    "    all_value_counts = df['age-binned'].value_counts().sort_index()\n",
    "    \n",
    "    # Get the lowest amount of images for a binned class\n",
    "    minimal_amount = min(all_value_counts)\n",
    "    print('The lowest binned class has {} images, because we would like to enhance training we choose limit each class to {} images.'.format(minimal_amount, minimal_amount))\n",
    "    \n",
    "    # Loop overall the indexes and remove \n",
    "    final_df = pd.DataFrame()\n",
    "    \n",
    "    for index in all_value_counts.index:\n",
    "        df_limited = df_copy[df_copy['age-binned'] == index][:minimal_amount]\n",
    "        final_df   = final_df.append(df_limited)\n",
    "    \n",
    "    # Reset indexes\n",
    "    final_df = final_df.reset_index()\n",
    "    \n",
    "    return final_df"
   ]
  },
  {
   "cell_type": "code",
   "execution_count": 8,
   "metadata": {},
   "outputs": [
    {
     "name": "stdout",
     "output_type": "stream",
     "text": [
      "The lowest binned class has 1170 images, because we would like to enhance training we choose limit each class to 1170 images.\n"
     ]
    }
   ],
   "source": [
    "df = balance_dataframe(df)"
   ]
  },
  {
   "cell_type": "code",
   "execution_count": 9,
   "metadata": {},
   "outputs": [
    {
     "name": "stdout",
     "output_type": "stream",
     "text": [
      "We see that the bins are even.\n",
      "\n",
      "(0, 10]     1170\n",
      "(10, 20]    1170\n",
      "(20, 30]    1170\n",
      "(30, 40]    1170\n",
      "(40, 50]    1170\n",
      "(50, 60]    1170\n",
      "(60, 70]    1170\n",
      "Name: age-binned, dtype: int64 \n",
      "\n"
     ]
    },
    {
     "data": {
      "text/plain": [
       "<matplotlib.axes._subplots.AxesSubplot at 0x1ba475e2748>"
      ]
     },
     "execution_count": 9,
     "metadata": {},
     "output_type": "execute_result"
    },
    {
     "data": {
      "image/png": "[encoded data removed]",
      "text/plain": [
       "<Figure size 432x288 with 1 Axes>"
      ]
     },
     "metadata": {
      "needs_background": "light"
     },
     "output_type": "display_data"
    }
   ],
   "source": [
    "# Print results\n",
    "print('We see that the bins are even.\\n')\n",
    "print(df['age-binned'].value_counts().sort_index(), '\\n')\n",
    "\n",
    "pd.DataFrame(df['age-binned'].value_counts()).sort_index().plot.bar(rot=0)"
   ]
  },
  {
   "cell_type": "code",
   "execution_count": 10,
   "metadata": {},
   "outputs": [],
   "source": [
    "# Pickle the result\n",
    "with open('df-UTKface_cropped-balanced.pkl', 'wb') as output_file:\n",
    "    pickle.dump(df, output_file)"
   ]
  },
  {
   "cell_type": "code",
   "execution_count": 11,
   "metadata": {},
   "outputs": [
    {
     "data": {
      "text/plain": [
       "(8190, 7)"
      ]
     },
     "metadata": {},
     "output_type": "display_data"
    },
    {
     "data": {
      "text/html": [
       "<div>\n",
       "<style scoped>\n",
       "    .dataframe tbody tr th:only-of-type {\n",
       "        vertical-align: middle;\n",
       "    }\n",
       "\n",
       "    .dataframe tbody tr th {\n",
       "        vertical-align: top;\n",
       "    }\n",
       "\n",
       "    .dataframe thead th {\n",
       "        text-align: right;\n",
       "    }\n",
       "</style>\n",
       "<table border=\"1\" class=\"dataframe\">\n",
       "  <thead>\n",
       "    <tr style=\"text-align: right;\">\n",
       "      <th></th>\n",
       "      <th>index</th>\n",
       "      <th>age</th>\n",
       "      <th>gender</th>\n",
       "      <th>race</th>\n",
       "      <th>datetime</th>\n",
       "      <th>path</th>\n",
       "      <th>age-binned</th>\n",
       "    </tr>\n",
       "  </thead>\n",
       "  <tbody>\n",
       "    <tr>\n",
       "      <th>0</th>\n",
       "      <td>19</td>\n",
       "      <td>10</td>\n",
       "      <td>0</td>\n",
       "      <td>0</td>\n",
       "      <td>20161220222308131</td>\n",
       "      <td>C:\\Users\\Paulo\\Documents\\GitHub\\deep-learning-age-estimation\\notebooks\\datasets\\UTKface_cropped\\10_0_0_20161220222308131.jpg.chip.jpg</td>\n",
       "      <td>(0, 10]</td>\n",
       "    </tr>\n",
       "    <tr>\n",
       "      <th>1</th>\n",
       "      <td>20</td>\n",
       "      <td>10</td>\n",
       "      <td>0</td>\n",
       "      <td>0</td>\n",
       "      <td>20170103200329407</td>\n",
       "      <td>C:\\Users\\Paulo\\Documents\\GitHub\\deep-learning-age-estimation\\notebooks\\datasets\\UTKface_cropped\\10_0_0_20170103200329407.jpg.chip.jpg</td>\n",
       "      <td>(0, 10]</td>\n",
       "    </tr>\n",
       "    <tr>\n",
       "      <th>2</th>\n",
       "      <td>21</td>\n",
       "      <td>10</td>\n",
       "      <td>0</td>\n",
       "      <td>0</td>\n",
       "      <td>20170103200522151</td>\n",
       "      <td>C:\\Users\\Paulo\\Documents\\GitHub\\deep-learning-age-estimation\\notebooks\\datasets\\UTKface_cropped\\10_0_0_20170103200522151.jpg.chip.jpg</td>\n",
       "      <td>(0, 10]</td>\n",
       "    </tr>\n",
       "    <tr>\n",
       "      <th>3</th>\n",
       "      <td>22</td>\n",
       "      <td>10</td>\n",
       "      <td>0</td>\n",
       "      <td>0</td>\n",
       "      <td>20170103233459275</td>\n",
       "      <td>C:\\Users\\Paulo\\Documents\\GitHub\\deep-learning-age-estimation\\notebooks\\datasets\\UTKface_cropped\\10_0_0_20170103233459275.jpg.chip.jpg</td>\n",
       "      <td>(0, 10]</td>\n",
       "    </tr>\n",
       "    <tr>\n",
       "      <th>4</th>\n",
       "      <td>23</td>\n",
       "      <td>10</td>\n",
       "      <td>0</td>\n",
       "      <td>0</td>\n",
       "      <td>20170104013211746</td>\n",
       "      <td>C:\\Users\\Paulo\\Documents\\GitHub\\deep-learning-age-estimation\\notebooks\\datasets\\UTKface_cropped\\10_0_0_20170104013211746.jpg.chip.jpg</td>\n",
       "      <td>(0, 10]</td>\n",
       "    </tr>\n",
       "  </tbody>\n",
       "</table>\n",
       "</div>"
      ],
      "text/plain": [
       "   index  age gender race           datetime  \\\n",
       "0  19     10   0      0    20161220222308131   \n",
       "1  20     10   0      0    20170103200329407   \n",
       "2  21     10   0      0    20170103200522151   \n",
       "3  22     10   0      0    20170103233459275   \n",
       "4  23     10   0      0    20170104013211746   \n",
       "\n",
       "                                                                                                                                    path  \\\n",
       "0  C:\\Users\\Paulo\\Documents\\GitHub\\deep-learning-age-estimation\\notebooks\\datasets\\UTKface_cropped\\10_0_0_20161220222308131.jpg.chip.jpg   \n",
       "1  C:\\Users\\Paulo\\Documents\\GitHub\\deep-learning-age-estimation\\notebooks\\datasets\\UTKface_cropped\\10_0_0_20170103200329407.jpg.chip.jpg   \n",
       "2  C:\\Users\\Paulo\\Documents\\GitHub\\deep-learning-age-estimation\\notebooks\\datasets\\UTKface_cropped\\10_0_0_20170103200522151.jpg.chip.jpg   \n",
       "3  C:\\Users\\Paulo\\Documents\\GitHub\\deep-learning-age-estimation\\notebooks\\datasets\\UTKface_cropped\\10_0_0_20170103233459275.jpg.chip.jpg   \n",
       "4  C:\\Users\\Paulo\\Documents\\GitHub\\deep-learning-age-estimation\\notebooks\\datasets\\UTKface_cropped\\10_0_0_20170104013211746.jpg.chip.jpg   \n",
       "\n",
       "  age-binned  \n",
       "0  (0, 10]    \n",
       "1  (0, 10]    \n",
       "2  (0, 10]    \n",
       "3  (0, 10]    \n",
       "4  (0, 10]    "
      ]
     },
     "execution_count": 11,
     "metadata": {},
     "output_type": "execute_result"
    }
   ],
   "source": [
    "# Open saved pickle file and test the saved df.\n",
    "with open('df-UTKface_cropped-balanced.pkl', 'rb') as input_file:\n",
    "    df = pickle.load(input_file)\n",
    "\n",
    "display(df.shape)\n",
    "df.head()"
   ]
  },
  {
   "cell_type": "markdown",
   "metadata": {},
   "source": [
    "<br><br><br>\n",
    "# Create new folder structure"
   ]
  },
  {
   "cell_type": "code",
   "execution_count": 12,
   "metadata": {},
   "outputs": [
    {
     "name": "stdout",
     "output_type": "stream",
     "text": [
      "Successfully created the directory C:\\Users\\Paulo\\Documents\\GitHub\\deep-learning-age-estimation\\notebooks\\datasets\\UTKface_cropped-new-structure-balanced\\training  \n",
      "\n",
      "\n",
      "Successfully created the directory C:\\Users\\Paulo\\Documents\\GitHub\\deep-learning-age-estimation\\notebooks\\datasets\\UTKface_cropped-new-structure-balanced\\validation  \n",
      "\n",
      "\n",
      "Successfully created the directory C:\\Users\\Paulo\\Documents\\GitHub\\deep-learning-age-estimation\\notebooks\\datasets\\UTKface_cropped-new-structure-balanced\\test  \n",
      "\n",
      "\n",
      "Wall time: 3 ms\n"
     ]
    }
   ],
   "source": [
    "%%time\n",
    "\n",
    "# Create folders for training, validation and testing\n",
    "TRAINING_VALIDATION_TESTING_FOLDERS = ['training', 'validation', 'test']\n",
    "TRAINING_VALIDATION_TESTING_FOLDERS = [os.path.join(new_directory, folder) for folder in TRAINING_VALIDATION_TESTING_FOLDERS]\n",
    "\n",
    "\n",
    "# Creating all categories as folders\n",
    "for new_folder in TRAINING_VALIDATION_TESTING_FOLDERS:\n",
    "    try:\n",
    "        os.mkdir(new_folder)\n",
    "    except OSError:\n",
    "        print (\"Creation of the directory %s failed    \\n\\n\" % new_folder)\n",
    "    else:\n",
    "        print (\"Successfully created the directory %s  \\n\\n\" % new_folder)"
   ]
  },
  {
   "cell_type": "code",
   "execution_count": 13,
   "metadata": {},
   "outputs": [
    {
     "name": "stdout",
     "output_type": "stream",
     "text": [
      "Finished with TRAINING_CATEGORIES\n",
      "Finished with VALIDATION_CATEGORIES\n",
      "Finished with TEST_CATEGORIES\n",
      "Wall time: 9.92 ms\n"
     ]
    }
   ],
   "source": [
    "%%time\n",
    "\n",
    "# Creating all categories as folders\n",
    "CATEGORIES = bins[1:] # we dont include 0\n",
    "TRAINING_CATEGORIES = [os.path.join(TRAINING_VALIDATION_TESTING_FOLDERS[0], str(CATEGORY)) for CATEGORY in CATEGORIES]\n",
    "VALIDATION_CATEGORIES = [os.path.join(TRAINING_VALIDATION_TESTING_FOLDERS[1], str(CATEGORY)) for CATEGORY in CATEGORIES]\n",
    "TEST_CATEGORIES = [os.path.join(TRAINING_VALIDATION_TESTING_FOLDERS[2], str(CATEGORY)) for CATEGORY in CATEGORIES]\n",
    "\n",
    "\n",
    "for new_folder in TRAINING_CATEGORIES:\n",
    "    try:\n",
    "        os.mkdir(new_folder)\n",
    "    except OSError:\n",
    "        print(\"Creation of the directory %s failed    \\n\\n\" % new_folder)\n",
    "\n",
    "print('Finished with TRAINING_CATEGORIES')\n",
    "\n",
    "\n",
    "\n",
    "for new_folder in VALIDATION_CATEGORIES:\n",
    "    try:\n",
    "        os.mkdir(new_folder)\n",
    "    except OSError:\n",
    "        print(\"Creation of the directory %s failed    \\n\\n\" % new_folder)\n",
    "\n",
    "print('Finished with VALIDATION_CATEGORIES')\n",
    "\n",
    "\n",
    "\n",
    "for new_folder in TEST_CATEGORIES:\n",
    "    try:\n",
    "        os.mkdir(new_folder)\n",
    "    except OSError:\n",
    "        print(\"Creation of the directory %s failed    \\n\\n\" % new_folder)\n",
    "\n",
    "print('Finished with TEST_CATEGORIES')"
   ]
  },
  {
   "cell_type": "code",
   "execution_count": 14,
   "metadata": {},
   "outputs": [
    {
     "data": {
      "text/html": [
       "<div>\n",
       "<style scoped>\n",
       "    .dataframe tbody tr th:only-of-type {\n",
       "        vertical-align: middle;\n",
       "    }\n",
       "\n",
       "    .dataframe tbody tr th {\n",
       "        vertical-align: top;\n",
       "    }\n",
       "\n",
       "    .dataframe thead th {\n",
       "        text-align: right;\n",
       "    }\n",
       "</style>\n",
       "<table border=\"1\" class=\"dataframe\">\n",
       "  <thead>\n",
       "    <tr style=\"text-align: right;\">\n",
       "      <th></th>\n",
       "      <th>index</th>\n",
       "      <th>age</th>\n",
       "      <th>gender</th>\n",
       "      <th>race</th>\n",
       "      <th>datetime</th>\n",
       "      <th>path</th>\n",
       "      <th>age-binned</th>\n",
       "    </tr>\n",
       "  </thead>\n",
       "  <tbody>\n",
       "    <tr>\n",
       "      <th>0</th>\n",
       "      <td>19</td>\n",
       "      <td>10</td>\n",
       "      <td>0</td>\n",
       "      <td>0</td>\n",
       "      <td>20161220222308131</td>\n",
       "      <td>C:\\Users\\Paulo\\Documents\\GitHub\\deep-learning-age-estimation\\notebooks\\datasets\\UTKface_cropped\\10_0_0_20161220222308131.jpg.chip.jpg</td>\n",
       "      <td>(0, 10]</td>\n",
       "    </tr>\n",
       "    <tr>\n",
       "      <th>1</th>\n",
       "      <td>20</td>\n",
       "      <td>10</td>\n",
       "      <td>0</td>\n",
       "      <td>0</td>\n",
       "      <td>20170103200329407</td>\n",
       "      <td>C:\\Users\\Paulo\\Documents\\GitHub\\deep-learning-age-estimation\\notebooks\\datasets\\UTKface_cropped\\10_0_0_20170103200329407.jpg.chip.jpg</td>\n",
       "      <td>(0, 10]</td>\n",
       "    </tr>\n",
       "    <tr>\n",
       "      <th>2</th>\n",
       "      <td>21</td>\n",
       "      <td>10</td>\n",
       "      <td>0</td>\n",
       "      <td>0</td>\n",
       "      <td>20170103200522151</td>\n",
       "      <td>C:\\Users\\Paulo\\Documents\\GitHub\\deep-learning-age-estimation\\notebooks\\datasets\\UTKface_cropped\\10_0_0_20170103200522151.jpg.chip.jpg</td>\n",
       "      <td>(0, 10]</td>\n",
       "    </tr>\n",
       "    <tr>\n",
       "      <th>3</th>\n",
       "      <td>22</td>\n",
       "      <td>10</td>\n",
       "      <td>0</td>\n",
       "      <td>0</td>\n",
       "      <td>20170103233459275</td>\n",
       "      <td>C:\\Users\\Paulo\\Documents\\GitHub\\deep-learning-age-estimation\\notebooks\\datasets\\UTKface_cropped\\10_0_0_20170103233459275.jpg.chip.jpg</td>\n",
       "      <td>(0, 10]</td>\n",
       "    </tr>\n",
       "    <tr>\n",
       "      <th>4</th>\n",
       "      <td>23</td>\n",
       "      <td>10</td>\n",
       "      <td>0</td>\n",
       "      <td>0</td>\n",
       "      <td>20170104013211746</td>\n",
       "      <td>C:\\Users\\Paulo\\Documents\\GitHub\\deep-learning-age-estimation\\notebooks\\datasets\\UTKface_cropped\\10_0_0_20170104013211746.jpg.chip.jpg</td>\n",
       "      <td>(0, 10]</td>\n",
       "    </tr>\n",
       "    <tr>\n",
       "      <th>...</th>\n",
       "      <td>...</td>\n",
       "      <td>...</td>\n",
       "      <td>...</td>\n",
       "      <td>...</td>\n",
       "      <td>...</td>\n",
       "      <td>...</td>\n",
       "      <td>...</td>\n",
       "    </tr>\n",
       "    <tr>\n",
       "      <th>8185</th>\n",
       "      <td>21942</td>\n",
       "      <td>70</td>\n",
       "      <td>1</td>\n",
       "      <td>2</td>\n",
       "      <td>20170110181645374</td>\n",
       "      <td>C:\\Users\\Paulo\\Documents\\GitHub\\deep-learning-age-estimation\\notebooks\\datasets\\UTKface_cropped\\70_1_2_20170110181645374.jpg.chip.jpg</td>\n",
       "      <td>(60, 70]</td>\n",
       "    </tr>\n",
       "    <tr>\n",
       "      <th>8186</th>\n",
       "      <td>21943</td>\n",
       "      <td>70</td>\n",
       "      <td>1</td>\n",
       "      <td>3</td>\n",
       "      <td>20170109134219121</td>\n",
       "      <td>C:\\Users\\Paulo\\Documents\\GitHub\\deep-learning-age-estimation\\notebooks\\datasets\\UTKface_cropped\\70_1_3_20170109134219121.jpg.chip.jpg</td>\n",
       "      <td>(60, 70]</td>\n",
       "    </tr>\n",
       "    <tr>\n",
       "      <th>8187</th>\n",
       "      <td>21944</td>\n",
       "      <td>70</td>\n",
       "      <td>1</td>\n",
       "      <td>3</td>\n",
       "      <td>20170109142852824</td>\n",
       "      <td>C:\\Users\\Paulo\\Documents\\GitHub\\deep-learning-age-estimation\\notebooks\\datasets\\UTKface_cropped\\70_1_3_20170109142852824.jpg.chip.jpg</td>\n",
       "      <td>(60, 70]</td>\n",
       "    </tr>\n",
       "    <tr>\n",
       "      <th>8188</th>\n",
       "      <td>21945</td>\n",
       "      <td>70</td>\n",
       "      <td>1</td>\n",
       "      <td>3</td>\n",
       "      <td>20170116224931319</td>\n",
       "      <td>C:\\Users\\Paulo\\Documents\\GitHub\\deep-learning-age-estimation\\notebooks\\datasets\\UTKface_cropped\\70_1_3_20170116224931319.jpg.chip.jpg</td>\n",
       "      <td>(60, 70]</td>\n",
       "    </tr>\n",
       "    <tr>\n",
       "      <th>8189</th>\n",
       "      <td>21946</td>\n",
       "      <td>70</td>\n",
       "      <td>1</td>\n",
       "      <td>3</td>\n",
       "      <td>20170119150943854</td>\n",
       "      <td>C:\\Users\\Paulo\\Documents\\GitHub\\deep-learning-age-estimation\\notebooks\\datasets\\UTKface_cropped\\70_1_3_20170119150943854.jpg.chip.jpg</td>\n",
       "      <td>(60, 70]</td>\n",
       "    </tr>\n",
       "  </tbody>\n",
       "</table>\n",
       "<p>8190 rows × 7 columns</p>\n",
       "</div>"
      ],
      "text/plain": [
       "      index  age gender race           datetime  \\\n",
       "0     19     10   0      0    20161220222308131   \n",
       "1     20     10   0      0    20170103200329407   \n",
       "2     21     10   0      0    20170103200522151   \n",
       "3     22     10   0      0    20170103233459275   \n",
       "4     23     10   0      0    20170104013211746   \n",
       "...   ..     ..  ..     ..                  ...   \n",
       "8185  21942  70   1      2    20170110181645374   \n",
       "8186  21943  70   1      3    20170109134219121   \n",
       "8187  21944  70   1      3    20170109142852824   \n",
       "8188  21945  70   1      3    20170116224931319   \n",
       "8189  21946  70   1      3    20170119150943854   \n",
       "\n",
       "                                                                                                                                       path  \\\n",
       "0     C:\\Users\\Paulo\\Documents\\GitHub\\deep-learning-age-estimation\\notebooks\\datasets\\UTKface_cropped\\10_0_0_20161220222308131.jpg.chip.jpg   \n",
       "1     C:\\Users\\Paulo\\Documents\\GitHub\\deep-learning-age-estimation\\notebooks\\datasets\\UTKface_cropped\\10_0_0_20170103200329407.jpg.chip.jpg   \n",
       "2     C:\\Users\\Paulo\\Documents\\GitHub\\deep-learning-age-estimation\\notebooks\\datasets\\UTKface_cropped\\10_0_0_20170103200522151.jpg.chip.jpg   \n",
       "3     C:\\Users\\Paulo\\Documents\\GitHub\\deep-learning-age-estimation\\notebooks\\datasets\\UTKface_cropped\\10_0_0_20170103233459275.jpg.chip.jpg   \n",
       "4     C:\\Users\\Paulo\\Documents\\GitHub\\deep-learning-age-estimation\\notebooks\\datasets\\UTKface_cropped\\10_0_0_20170104013211746.jpg.chip.jpg   \n",
       "...                                                                                                                                     ...   \n",
       "8185  C:\\Users\\Paulo\\Documents\\GitHub\\deep-learning-age-estimation\\notebooks\\datasets\\UTKface_cropped\\70_1_2_20170110181645374.jpg.chip.jpg   \n",
       "8186  C:\\Users\\Paulo\\Documents\\GitHub\\deep-learning-age-estimation\\notebooks\\datasets\\UTKface_cropped\\70_1_3_20170109134219121.jpg.chip.jpg   \n",
       "8187  C:\\Users\\Paulo\\Documents\\GitHub\\deep-learning-age-estimation\\notebooks\\datasets\\UTKface_cropped\\70_1_3_20170109142852824.jpg.chip.jpg   \n",
       "8188  C:\\Users\\Paulo\\Documents\\GitHub\\deep-learning-age-estimation\\notebooks\\datasets\\UTKface_cropped\\70_1_3_20170116224931319.jpg.chip.jpg   \n",
       "8189  C:\\Users\\Paulo\\Documents\\GitHub\\deep-learning-age-estimation\\notebooks\\datasets\\UTKface_cropped\\70_1_3_20170119150943854.jpg.chip.jpg   \n",
       "\n",
       "     age-binned  \n",
       "0     (0, 10]    \n",
       "1     (0, 10]    \n",
       "2     (0, 10]    \n",
       "3     (0, 10]    \n",
       "4     (0, 10]    \n",
       "...       ...    \n",
       "8185  (60, 70]   \n",
       "8186  (60, 70]   \n",
       "8187  (60, 70]   \n",
       "8188  (60, 70]   \n",
       "8189  (60, 70]   \n",
       "\n",
       "[8190 rows x 7 columns]"
      ]
     },
     "execution_count": 14,
     "metadata": {},
     "output_type": "execute_result"
    }
   ],
   "source": [
    "df"
   ]
  },
  {
   "cell_type": "markdown",
   "metadata": {},
   "source": [
    "<br><br><br>\n",
    "# Split data"
   ]
  },
  {
   "cell_type": "code",
   "execution_count": 15,
   "metadata": {},
   "outputs": [
    {
     "name": "stdout",
     "output_type": "stream",
     "text": [
      "Length training:    6177\n",
      "Length validation:  1629\n",
      "Length test:        384\n"
     ]
    }
   ],
   "source": [
    "# Random state that will be used to 'randomly' split the data into training, validation and test.\n",
    "np.random.seed(1)\n",
    "\n",
    "# Split the dataframe into train, validation and test\n",
    "probs = np.random.rand(len(df))\n",
    "training_mask = probs < 0.75\n",
    "validation_mask = (probs>=0.75) & (probs < 0.95)\n",
    "test_mask  = probs >= 0.95\n",
    "\n",
    "\n",
    "df_training = df[training_mask]\n",
    "df_validation = df[validation_mask]\n",
    "df_test = df[test_mask]\n",
    "\n",
    "print('Length training:   ', len(df_training))\n",
    "print('Length validation: ', len(df_validation))\n",
    "print('Length test:       ', len(df_test))"
   ]
  },
  {
   "cell_type": "code",
   "execution_count": 16,
   "metadata": {},
   "outputs": [
    {
     "name": "stdout",
     "output_type": "stream",
     "text": [
      "Overlapping paths in training and validation? Answer:  False\n",
      "Overlapping paths in training and test? Answer:        False\n",
      "Overlapping paths in validation and test? Answer:      False\n"
     ]
    }
   ],
   "source": [
    "# Check if the splitting up the dataframe was done correctly (if yes, then both df have one or more overlapping rows)\n",
    "print('Overlapping paths in training and validation? Answer: ', bool(set(df_training['path']) & set(df_validation['path'])))\n",
    "print('Overlapping paths in training and test? Answer:       ', bool(set(df_training['path']) & set(df_test['path'])))\n",
    "print('Overlapping paths in validation and test? Answer:     ', bool(set(df_validation['path']) & set(df_test['path'])))"
   ]
  },
  {
   "cell_type": "code",
   "execution_count": 17,
   "metadata": {},
   "outputs": [
    {
     "name": "stdout",
     "output_type": "stream",
     "text": [
      "df_training binned ages distribution\n"
     ]
    },
    {
     "data": {
      "text/plain": [
       "<matplotlib.axes._subplots.AxesSubplot at 0x1ba46d621c8>"
      ]
     },
     "execution_count": 17,
     "metadata": {},
     "output_type": "execute_result"
    },
    {
     "data": {
      "image/png": "[encoded data removed]",
      "text/plain": [
       "<Figure size 432x288 with 1 Axes>"
      ]
     },
     "metadata": {
      "needs_background": "light"
     },
     "output_type": "display_data"
    }
   ],
   "source": [
    "print('df_training binned ages distribution')\n",
    "pd.DataFrame(df_training['age-binned'].value_counts()).sort_index().plot.bar(rot=0)"
   ]
  },
  {
   "cell_type": "code",
   "execution_count": 18,
   "metadata": {},
   "outputs": [
    {
     "name": "stdout",
     "output_type": "stream",
     "text": [
      "df_validation binned ages distribution\n"
     ]
    },
    {
     "data": {
      "text/plain": [
       "<matplotlib.axes._subplots.AxesSubplot at 0x1ba4665ec08>"
      ]
     },
     "execution_count": 18,
     "metadata": {},
     "output_type": "execute_result"
    },
    {
     "data": {
      "image/png": "[encoded data removed]",
      "text/plain": [
       "<Figure size 432x288 with 1 Axes>"
      ]
     },
     "metadata": {
      "needs_background": "light"
     },
     "output_type": "display_data"
    }
   ],
   "source": [
    "print('df_validation binned ages distribution')\n",
    "pd.DataFrame(df_validation['age-binned'].value_counts()).sort_index().plot.bar(rot=0)"
   ]
  },
  {
   "cell_type": "code",
   "execution_count": 19,
   "metadata": {},
   "outputs": [
    {
     "name": "stdout",
     "output_type": "stream",
     "text": [
      "df_test binned ages distribution\n"
     ]
    },
    {
     "data": {
      "text/plain": [
       "<matplotlib.axes._subplots.AxesSubplot at 0x1ba477e74c8>"
      ]
     },
     "execution_count": 19,
     "metadata": {},
     "output_type": "execute_result"
    },
    {
     "data": {
      "image/png": "[encoded data removed]",
      "text/plain": [
       "<Figure size 432x288 with 1 Axes>"
      ]
     },
     "metadata": {
      "needs_background": "light"
     },
     "output_type": "display_data"
    }
   ],
   "source": [
    "print('df_test binned ages distribution')\n",
    "pd.DataFrame(df_test['age-binned'].value_counts()).sort_index().plot.bar(rot=0)"
   ]
  },
  {
   "cell_type": "markdown",
   "metadata": {},
   "source": [
    "<br><br><br>\n",
    "# Move images"
   ]
  },
  {
   "cell_type": "code",
   "execution_count": 20,
   "metadata": {},
   "outputs": [],
   "source": [
    "def check_interval(x, intervals=df['age-binned'].unique()):\n",
    "    if x in intervals[0]:\n",
    "        return str(10)\n",
    "    \n",
    "    elif x in intervals[1]:\n",
    "        return str(20)\n",
    "    \n",
    "    elif x in intervals[2]:\n",
    "        return str(30)\n",
    "    \n",
    "    elif x in intervals[3]:\n",
    "        return str(40)\n",
    "    \n",
    "    elif x in intervals[4]:\n",
    "        return str(50)\n",
    "    \n",
    "    elif x in intervals[5]:\n",
    "        return str(60)\n",
    "    \n",
    "    elif x in intervals[6]:\n",
    "        return str(70)"
   ]
  },
  {
   "cell_type": "code",
   "execution_count": 21,
   "metadata": {},
   "outputs": [
    {
     "name": "stderr",
     "output_type": "stream",
     "text": [
      "C:\\Users\\Paulo\\AppData\\Local\\Continuum\\anaconda3\\lib\\site-packages\\ipykernel_launcher.py:5: SettingWithCopyWarning: \n",
      "A value is trying to be set on a copy of a slice from a DataFrame.\n",
      "Try using .loc[row_indexer,col_indexer] = value instead\n",
      "\n",
      "See the caveats in the documentation: https://pandas.pydata.org/pandas-docs/stable/user_guide/indexing.html#returning-a-view-versus-a-copy\n",
      "  \"\"\"\n",
      "C:\\Users\\Paulo\\AppData\\Local\\Continuum\\anaconda3\\lib\\site-packages\\ipykernel_launcher.py:6: SettingWithCopyWarning: \n",
      "A value is trying to be set on a copy of a slice from a DataFrame.\n",
      "Try using .loc[row_indexer,col_indexer] = value instead\n",
      "\n",
      "See the caveats in the documentation: https://pandas.pydata.org/pandas-docs/stable/user_guide/indexing.html#returning-a-view-versus-a-copy\n",
      "  \n",
      "C:\\Users\\Paulo\\AppData\\Local\\Continuum\\anaconda3\\lib\\site-packages\\ipykernel_launcher.py:7: SettingWithCopyWarning: \n",
      "A value is trying to be set on a copy of a slice from a DataFrame.\n",
      "Try using .loc[row_indexer,col_indexer] = value instead\n",
      "\n",
      "See the caveats in the documentation: https://pandas.pydata.org/pandas-docs/stable/user_guide/indexing.html#returning-a-view-versus-a-copy\n",
      "  import sys\n"
     ]
    }
   ],
   "source": [
    "TRAINING_PATH   = TRAINING_VALIDATION_TESTING_FOLDERS[0]\n",
    "VALIDATION_PATH = TRAINING_VALIDATION_TESTING_FOLDERS[1]\n",
    "TEST_PATH       = TRAINING_VALIDATION_TESTING_FOLDERS[2]\n",
    "\n",
    "df_training['new-path']   = df_training['age'].apply(lambda x: os.path.join(TRAINING_PATH, check_interval(x)))\n",
    "df_validation['new-path'] = df_validation['age'].apply(lambda x: os.path.join(VALIDATION_PATH, check_interval(x)))\n",
    "df_test['new-path']       = df_test['age'].apply(lambda x: os.path.join(TEST_PATH, check_interval(x)))"
   ]
  },
  {
   "cell_type": "code",
   "execution_count": 22,
   "metadata": {},
   "outputs": [
    {
     "data": {
      "text/html": [
       "<div>\n",
       "<style scoped>\n",
       "    .dataframe tbody tr th:only-of-type {\n",
       "        vertical-align: middle;\n",
       "    }\n",
       "\n",
       "    .dataframe tbody tr th {\n",
       "        vertical-align: top;\n",
       "    }\n",
       "\n",
       "    .dataframe thead th {\n",
       "        text-align: right;\n",
       "    }\n",
       "</style>\n",
       "<table border=\"1\" class=\"dataframe\">\n",
       "  <thead>\n",
       "    <tr style=\"text-align: right;\">\n",
       "      <th></th>\n",
       "      <th>age</th>\n",
       "      <th>age-binned</th>\n",
       "      <th>gender</th>\n",
       "      <th>race</th>\n",
       "      <th>datetime</th>\n",
       "      <th>category</th>\n",
       "      <th>path</th>\n",
       "    </tr>\n",
       "  </thead>\n",
       "  <tbody>\n",
       "    <tr>\n",
       "      <th>0</th>\n",
       "      <td>10</td>\n",
       "      <td>(0, 10]</td>\n",
       "      <td>0</td>\n",
       "      <td>0</td>\n",
       "      <td>20161220222308131</td>\n",
       "      <td>training</td>\n",
       "      <td>C:\\Users\\Paulo\\Documents\\GitHub\\deep-learning-age-estimation\\notebooks\\datasets\\UTKface_cropped-new-structure-balanced\\training\\10</td>\n",
       "    </tr>\n",
       "    <tr>\n",
       "      <th>1</th>\n",
       "      <td>10</td>\n",
       "      <td>(0, 10]</td>\n",
       "      <td>0</td>\n",
       "      <td>0</td>\n",
       "      <td>20170103200329407</td>\n",
       "      <td>training</td>\n",
       "      <td>C:\\Users\\Paulo\\Documents\\GitHub\\deep-learning-age-estimation\\notebooks\\datasets\\UTKface_cropped-new-structure-balanced\\training\\10</td>\n",
       "    </tr>\n",
       "    <tr>\n",
       "      <th>2</th>\n",
       "      <td>10</td>\n",
       "      <td>(0, 10]</td>\n",
       "      <td>0</td>\n",
       "      <td>0</td>\n",
       "      <td>20170103200522151</td>\n",
       "      <td>training</td>\n",
       "      <td>C:\\Users\\Paulo\\Documents\\GitHub\\deep-learning-age-estimation\\notebooks\\datasets\\UTKface_cropped-new-structure-balanced\\training\\10</td>\n",
       "    </tr>\n",
       "    <tr>\n",
       "      <th>3</th>\n",
       "      <td>10</td>\n",
       "      <td>(0, 10]</td>\n",
       "      <td>0</td>\n",
       "      <td>0</td>\n",
       "      <td>20170103233459275</td>\n",
       "      <td>training</td>\n",
       "      <td>C:\\Users\\Paulo\\Documents\\GitHub\\deep-learning-age-estimation\\notebooks\\datasets\\UTKface_cropped-new-structure-balanced\\training\\10</td>\n",
       "    </tr>\n",
       "    <tr>\n",
       "      <th>4</th>\n",
       "      <td>10</td>\n",
       "      <td>(0, 10]</td>\n",
       "      <td>0</td>\n",
       "      <td>0</td>\n",
       "      <td>20170104013211746</td>\n",
       "      <td>training</td>\n",
       "      <td>C:\\Users\\Paulo\\Documents\\GitHub\\deep-learning-age-estimation\\notebooks\\datasets\\UTKface_cropped-new-structure-balanced\\training\\10</td>\n",
       "    </tr>\n",
       "  </tbody>\n",
       "</table>\n",
       "</div>"
      ],
      "text/plain": [
       "   age age-binned gender race           datetime  category  \\\n",
       "0  10   (0, 10]    0      0    20161220222308131  training   \n",
       "1  10   (0, 10]    0      0    20170103200329407  training   \n",
       "2  10   (0, 10]    0      0    20170103200522151  training   \n",
       "3  10   (0, 10]    0      0    20170103233459275  training   \n",
       "4  10   (0, 10]    0      0    20170104013211746  training   \n",
       "\n",
       "                                                                                                                                 path  \n",
       "0  C:\\Users\\Paulo\\Documents\\GitHub\\deep-learning-age-estimation\\notebooks\\datasets\\UTKface_cropped-new-structure-balanced\\training\\10  \n",
       "1  C:\\Users\\Paulo\\Documents\\GitHub\\deep-learning-age-estimation\\notebooks\\datasets\\UTKface_cropped-new-structure-balanced\\training\\10  \n",
       "2  C:\\Users\\Paulo\\Documents\\GitHub\\deep-learning-age-estimation\\notebooks\\datasets\\UTKface_cropped-new-structure-balanced\\training\\10  \n",
       "3  C:\\Users\\Paulo\\Documents\\GitHub\\deep-learning-age-estimation\\notebooks\\datasets\\UTKface_cropped-new-structure-balanced\\training\\10  \n",
       "4  C:\\Users\\Paulo\\Documents\\GitHub\\deep-learning-age-estimation\\notebooks\\datasets\\UTKface_cropped-new-structure-balanced\\training\\10  "
      ]
     },
     "metadata": {},
     "output_type": "display_data"
    }
   ],
   "source": [
    "# Combine the results to one dataframe\n",
    "def correct_category(path):\n",
    "    if 'training' in path:\n",
    "        return 'training'\n",
    "    \n",
    "    elif 'validation' in path:\n",
    "        return 'validation'\n",
    "    \n",
    "    elif 'test' in path:\n",
    "        return 'test'\n",
    "    \n",
    "    else:\n",
    "        return None\n",
    "    \n",
    "df = df_training.append(df_validation).append(df_test).sort_index()\n",
    "df['category'] = df['new-path'].apply(lambda x: correct_category(x))\n",
    "df['path'] = df['new-path']\n",
    "df = df.drop(['new-path'], axis=1)\n",
    "df = df[['age', 'age-binned', 'gender', 'race', 'datetime', 'category', 'path']]\n",
    "\n",
    "display(df.head())\n",
    "\n",
    "\n",
    "# Pickle the result\n",
    "with open('df-UTKface_cropped-balanced.pkl', 'wb') as output_file:\n",
    "    pickle.dump(df, output_file)"
   ]
  },
  {
   "cell_type": "code",
   "execution_count": 23,
   "metadata": {},
   "outputs": [
    {
     "name": "stdout",
     "output_type": "stream",
     "text": [
      "Wall time: 1min 45s\n"
     ]
    }
   ],
   "source": [
    "%%time \n",
    "\n",
    "# Move all the newly defined trainings data\n",
    "for index, row in df_training.iterrows():\n",
    "    shutil.copy(row['path'], row['new-path'])\n",
    "    \n",
    "# Move all the newly defined validation data\n",
    "for index, row in df_validation.iterrows():\n",
    "    shutil.copy(row['path'], row['new-path'])\n",
    "\n",
    "# Move all the newly defined test data\n",
    "for index, row in df_test.iterrows():\n",
    "    shutil.copy(row['path'], row['new-path'])"
   ]
  },
  {
   "cell_type": "code",
   "execution_count": 24,
   "metadata": {},
   "outputs": [
    {
     "name": "stdout",
     "output_type": "stream",
     "text": [
      "Lenght of the collected files from our path is:  8190\n"
     ]
    }
   ],
   "source": [
    "# Extract all the files of our dataset folder. This folder contains 3 subfolders\n",
    "# with each containing parts of our dataset.\n",
    "all_files = extract_all_files(new_directory)\n",
    "print('Lenght of the collected files from our path is: ', len(all_files))"
   ]
  }
 ],
 "metadata": {
  "kernelspec": {
   "display_name": "Python 3",
   "language": "python",
   "name": "python3"
  },
  "language_info": {
   "codemirror_mode": {
    "name": "ipython",
    "version": 3
   },
   "file_extension": ".py",
   "mimetype": "text/x-python",
   "name": "python",
   "nbconvert_exporter": "python",
   "pygments_lexer": "ipython3",
   "version": "3.7.6"
  }
 },
 "nbformat": 4,
 "nbformat_minor": 4
}
