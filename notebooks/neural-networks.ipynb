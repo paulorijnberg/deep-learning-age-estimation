{
 "cells": [
  {
   "cell_type": "markdown",
   "metadata": {},
   "source": [
    "# Neural Networks\n",
    "This notebook runs multiple different neural networks."
   ]
  },
  {
   "cell_type": "markdown",
   "metadata": {},
   "source": [
    "<br><br><br><br>\n",
    "# Libaries & Global variables"
   ]
  },
  {
   "cell_type": "markdown",
   "metadata": {},
   "source": [
    "## Libaries"
   ]
  },
  {
   "cell_type": "code",
   "execution_count": 224,
   "metadata": {},
   "outputs": [],
   "source": [
    "# General libaries\n",
    "import pandas as pd\n",
    "import numpy as np\n",
    "import os\n",
    "import pickle\n",
    "\n",
    "# Preprocessing\n",
    "from sklearn.preprocessing import OneHotEncoder\n",
    "from sklearn.utils import shuffle\n",
    "\n",
    "# Neural network related\n",
    "import keras\n",
    "from keras import models\n",
    "from keras.models import Model\n",
    "from keras.layers import Conv2D, MaxPooling2D, Dropout, Flatten, Dense, Activation, BatchNormalization, Input\n",
    "from keras import layers\n",
    "from keras.preprocessing.image import ImageDataGenerator # To create an image generator to create batches of images\n",
    "from keras.preprocessing import image # To change images to an np array AND visualize the image\n",
    "from keras import optimizers # to optimize\n",
    "from keras.models import load_model # Load model\n",
    "\n",
    "from keras.utils.vis_utils import plot_model # To plot models\n",
    "import pydot # To plot models\n",
    "\n",
    "# Visualizing\n",
    "import matplotlib.pyplot as plt\n",
    "\n",
    "# To clear ram\n",
    "from tensorflow.keras import backend as K\n",
    "K.clear_session()\n",
    "\n",
    "# To get information about ram\n",
    "import multiprocessing\n",
    "\n",
    "# Transfer Learning\n",
    "from keras.applications.resnet50 import ResNet50\n",
    "from keras.applications.resnet50 import preprocess_input, decode_predictions\n",
    "\n",
    "from keras.applications.vgg16 import VGG16\n",
    "from keras.applications.vgg16 import preprocess_input\n",
    "\n",
    "\n",
    "\n",
    "pd.set_option('max_colwidth', None)\n",
    "pd.set_option(\"display.max_rows\", 100)"
   ]
  },
  {
   "cell_type": "markdown",
   "metadata": {},
   "source": [
    "## Global variables"
   ]
  },
  {
   "cell_type": "code",
   "execution_count": 2,
   "metadata": {},
   "outputs": [],
   "source": [
    "dataset_path = os.path.join(os.getcwd(), 'datasets', 'UTKface-new-structure')"
   ]
  },
  {
   "cell_type": "code",
   "execution_count": 3,
   "metadata": {},
   "outputs": [],
   "source": [
    "training_path   = os.path.join(os.getcwd(), 'datasets', 'UTKface-new-structure', 'training')\n",
    "validation_path = os.path.join(os.getcwd(), 'datasets', 'UTKface-new-structure', 'validation')\n",
    "test_path       = os.path.join(os.getcwd(), 'datasets', 'UTKface-new-structure', 'test')"
   ]
  },
  {
   "cell_type": "markdown",
   "metadata": {},
   "source": [
    "<br><br><br><br>\n",
    "# General functions"
   ]
  },
  {
   "cell_type": "code",
   "execution_count": 157,
   "metadata": {},
   "outputs": [],
   "source": [
    "def load_dataset():\n",
    "    \"\"\"\n",
    "    This function loads the dataset.\n",
    "    \"\"\"\n",
    "    with open('df.pkl', 'rb') as input_file:\n",
    "        df = pickle.load(input_file)\n",
    "        \n",
    "    return df\n",
    "\n",
    "\n",
    "def save_history_model(history, filename, storage_location):\n",
    "    \"\"\"\n",
    "    This function pickles the history of a model and stores it\n",
    "    at the storage_location with the given filename.\n",
    "    \"\"\"\n",
    "    \n",
    "    # Pickle the result\n",
    "    location = os.path.join(storage_location, filename + '.pkl')\n",
    "    \n",
    "    with open(location, 'wb') as output_file:\n",
    "        pickle.dump(history, output_file)\n",
    "        \n",
    "def plot_history(history, x_as, y_as, title, line1='accuracy', line2='val_accuracy'):\n",
    "    \"\"\"\n",
    "    This function plots two lines, which as default are accuracy\n",
    "    and val_accuracy.\n",
    "    \"\"\"\n",
    "    \n",
    "    history = history.history\n",
    "    \n",
    "    plt.plot(range(1, len(history[line1]) + 1), history[line1])\n",
    "    plt.plot(range(1, len(history[line2]) + 1), history[line2])\n",
    "    plt.xlabel(x_as)\n",
    "    plt.ylabel(y_as)\n",
    "    plt.title(title)\n",
    "    plt.legend([line1, line2])\n",
    "    plt.show()\n",
    "    \n",
    "def load_neural_network(model_path, weights_path):\n",
    "    \"\"\"\n",
    "    Load the model.\n",
    "    \"\"\"\n",
    "    \n",
    "    # Load model\n",
    "    model = load_model(model_path)\n",
    "    \n",
    "    # Load weights\n",
    "    model.load_weights(weights_path)\n",
    "    \n",
    "    # Return model\n",
    "    return model\n",
    "\n",
    "def plot_image_activation(model_path, weights_path, img_path):\n",
    "    \"\"\"\n",
    "    This images shows the activation of the last convolutional layer.\n",
    "    \"\"\"\n",
    "    \n",
    "    # Define model\n",
    "    model = load_neural_network(model_path, weights_path)\n",
    "    \n",
    "    # Extract model_input_shape and relevant information\n",
    "    model_input_shape = model.layers[0].input_shape\n",
    "    \n",
    "    # Define color mode\n",
    "    if model_input_shape[-1] == 1:\n",
    "        color_mode = 'grayscale'\n",
    "        \n",
    "    elif model_input_shape[-1] == 3:\n",
    "        color_mode = 'rgb'\n",
    "    \n",
    "    # Extract target size\n",
    "    target_size = model.layers[0].input_shape[1:3]\n",
    "    \n",
    "    # Load the image that we want to plot\n",
    "    img = image.load_img(path        = img_path,\n",
    "                         color_mode  = color_mode,\n",
    "                         target_size = target_size)\n",
    "    x = image.img_to_array(img)\n",
    "    x = np.expand_dims(x, axis=0)\n",
    "    \n",
    "    if model_input_shape[-1] == 3:\n",
    "        x = preprocess_input(x)\n",
    "        \n",
    "    \n",
    "    # Make a prediction\n",
    "    preds = model.predict(x)\n",
    "    \n",
    "    # Get information of the prediction\n",
    "    argmax = np.argmax(preds[0])\n",
    "    output = model.output[:, argmax]\n",
    "    \n",
    "    for layer in model.layers:\n",
    "        if 'conv' in layer.name: \n",
    "            last_conv_layer_name = layer.name\n",
    "    last_conv_layer = model.get_layer(last_conv_layer_name)\n",
    "\n",
    "    grads = K.gradients(output, last_conv_layer.output)[0]\n",
    "    pooled_grads = K.mean(grads, axis=(0, 1, 2))\n",
    "    iterate = K.function([model.input], [pooled_grads, last_conv_layer.output[0]])\n",
    "    pooled_grads_value, conv_layer_output_value = iterate([x])\n",
    "    \n",
    "    for i in range(last_conv_layer.output_shape[-1]):\n",
    "        conv_layer_output_value[:, :, i] *= pooled_grads_value[i]\n",
    "\n",
    "    \n",
    "    # Plot the result\n",
    "    heatmap = np.mean(conv_layer_output_value, axis=-1)\n",
    "    heatmap = np.maximum(heatmap, 0)\n",
    "    heatmap /= np.max(heatmap)\n",
    "    \n",
    "    img = cv2.imread(img_path)\n",
    "    heatmap = cv2.resize(heatmap, (img.shape[1], img.shape[0]))\n",
    "    heatmap = np.uint8(255 * heatmap)\n",
    "    heatmap = cv2.applyColorMap(heatmap, cv2.COLORMAP_JET)\n",
    "    hif = .8\n",
    "    superimposed_img = heatmap * hif + img\n",
    "\n",
    "    output = os.path.join(os.getcwd(), 'test.jpeg')\n",
    "    cv2.imwrite(output, superimposed_img)\n",
    "\n",
    "    img = mpimg.imread(output)\n",
    "    \n",
    "    plt.imshow(img)\n",
    "    plt.axis('off')    \n",
    "    \n",
    "    # Delete img after showing\n",
    "    os.remove(output)\n",
    "    \n",
    "# preds = plot_image_activation(model_path   = 'models-and-results/neural-network-2.0-lenet-5-proposed-model-model.h5', \n",
    "#                               weights_path = 'models-and-results/neural-network-2.0-lenet-5-proposed-model-weights.h5', \n",
    "#                               img_path     = r'datasets\\UTKface-new-structure\\test\\50\\42_0_0_20170117135614403.jpg')"
   ]
  },
  {
   "cell_type": "code",
   "execution_count": 5,
   "metadata": {},
   "outputs": [
    {
     "data": {
      "text/html": [
       "<div>\n",
       "<style scoped>\n",
       "    .dataframe tbody tr th:only-of-type {\n",
       "        vertical-align: middle;\n",
       "    }\n",
       "\n",
       "    .dataframe tbody tr th {\n",
       "        vertical-align: top;\n",
       "    }\n",
       "\n",
       "    .dataframe thead th {\n",
       "        text-align: right;\n",
       "    }\n",
       "</style>\n",
       "<table border=\"1\" class=\"dataframe\">\n",
       "  <thead>\n",
       "    <tr style=\"text-align: right;\">\n",
       "      <th></th>\n",
       "      <th>age</th>\n",
       "      <th>age-binned</th>\n",
       "      <th>gender</th>\n",
       "      <th>race</th>\n",
       "      <th>datetime</th>\n",
       "      <th>category</th>\n",
       "      <th>path</th>\n",
       "    </tr>\n",
       "  </thead>\n",
       "  <tbody>\n",
       "    <tr>\n",
       "      <th>4</th>\n",
       "      <td>10</td>\n",
       "      <td>(0, 10]</td>\n",
       "      <td>0</td>\n",
       "      <td>0</td>\n",
       "      <td>20161220222308131</td>\n",
       "      <td>training</td>\n",
       "      <td>C:\\Users\\Paulo\\Documents\\GitHub\\deep-learning-age-estimation\\notebooks\\datasets\\UTKface-new-structure\\training\\10</td>\n",
       "    </tr>\n",
       "    <tr>\n",
       "      <th>5</th>\n",
       "      <td>10</td>\n",
       "      <td>(0, 10]</td>\n",
       "      <td>0</td>\n",
       "      <td>0</td>\n",
       "      <td>20170103200329407</td>\n",
       "      <td>training</td>\n",
       "      <td>C:\\Users\\Paulo\\Documents\\GitHub\\deep-learning-age-estimation\\notebooks\\datasets\\UTKface-new-structure\\training\\10</td>\n",
       "    </tr>\n",
       "    <tr>\n",
       "      <th>6</th>\n",
       "      <td>10</td>\n",
       "      <td>(0, 10]</td>\n",
       "      <td>0</td>\n",
       "      <td>0</td>\n",
       "      <td>20170103200522151</td>\n",
       "      <td>training</td>\n",
       "      <td>C:\\Users\\Paulo\\Documents\\GitHub\\deep-learning-age-estimation\\notebooks\\datasets\\UTKface-new-structure\\training\\10</td>\n",
       "    </tr>\n",
       "    <tr>\n",
       "      <th>7</th>\n",
       "      <td>10</td>\n",
       "      <td>(0, 10]</td>\n",
       "      <td>0</td>\n",
       "      <td>0</td>\n",
       "      <td>20170103233459275</td>\n",
       "      <td>validation</td>\n",
       "      <td>C:\\Users\\Paulo\\Documents\\GitHub\\deep-learning-age-estimation\\notebooks\\datasets\\UTKface-new-structure\\validation\\10</td>\n",
       "    </tr>\n",
       "    <tr>\n",
       "      <th>8</th>\n",
       "      <td>10</td>\n",
       "      <td>(0, 10]</td>\n",
       "      <td>0</td>\n",
       "      <td>0</td>\n",
       "      <td>20170104013211746</td>\n",
       "      <td>training</td>\n",
       "      <td>C:\\Users\\Paulo\\Documents\\GitHub\\deep-learning-age-estimation\\notebooks\\datasets\\UTKface-new-structure\\training\\10</td>\n",
       "    </tr>\n",
       "  </tbody>\n",
       "</table>\n",
       "</div>"
      ],
      "text/plain": [
       "   age age-binned gender race           datetime    category  \\\n",
       "4   10    (0, 10]      0    0  20161220222308131    training   \n",
       "5   10    (0, 10]      0    0  20170103200329407    training   \n",
       "6   10    (0, 10]      0    0  20170103200522151    training   \n",
       "7   10    (0, 10]      0    0  20170103233459275  validation   \n",
       "8   10    (0, 10]      0    0  20170104013211746    training   \n",
       "\n",
       "                                                                                                                  path  \n",
       "4    C:\\Users\\Paulo\\Documents\\GitHub\\deep-learning-age-estimation\\notebooks\\datasets\\UTKface-new-structure\\training\\10  \n",
       "5    C:\\Users\\Paulo\\Documents\\GitHub\\deep-learning-age-estimation\\notebooks\\datasets\\UTKface-new-structure\\training\\10  \n",
       "6    C:\\Users\\Paulo\\Documents\\GitHub\\deep-learning-age-estimation\\notebooks\\datasets\\UTKface-new-structure\\training\\10  \n",
       "7  C:\\Users\\Paulo\\Documents\\GitHub\\deep-learning-age-estimation\\notebooks\\datasets\\UTKface-new-structure\\validation\\10  \n",
       "8    C:\\Users\\Paulo\\Documents\\GitHub\\deep-learning-age-estimation\\notebooks\\datasets\\UTKface-new-structure\\training\\10  "
      ]
     },
     "execution_count": 5,
     "metadata": {},
     "output_type": "execute_result"
    }
   ],
   "source": [
    "df = load_dataset()\n",
    "df.head()"
   ]
  },
  {
   "cell_type": "markdown",
   "metadata": {},
   "source": [
    "<br><br><br><br><br><br><br><br>\n",
    "# Neural Network 1.0 - LeNet-5 CNN Architecture\n",
    "* Sithungu, S., & Van der Haar, D. (2019). Real-Time Age Detection Using a Convolutional Neural Network. *Business Information Systems*, 245–256. https://doi.org/10.1007/978-3-030-20482-2_20\n",
    "* Information of LeNet-5 CNN architecture https://engmrk.com/lenet-5-a-classic-cnn-architecture/\n",
    "\n",
    "\n",
    "<br>\n",
    "\n",
    "The LeNet-5 structure consists of:\n",
    "* Layer 1 - Input: 32x32 grayscale image with 6 feature maps of size 5x5 and stride 1.\n",
    "* Layer 2 - Average pooling with filter size 2x2 and stride 2.\n",
    "* Layer 3 - Conv layer with 16 feature maps of size 5x5 and stride 1.\n",
    "* Layer 4 - Average pooling with filter size 2x2 and stride 2.\n",
    "* Layer 5 - Fully connected layer with 120 units/feature maps of size 1x1.\n",
    "* Layer 6 - Fully connected layer with 84 units.\n",
    "\n",
    "<br>\n",
    "\n",
    "Result:\n",
    "* Loss went to nan pretty early."
   ]
  },
  {
   "cell_type": "markdown",
   "metadata": {},
   "source": [
    "<br><br>\n",
    "## Functions"
   ]
  },
  {
   "cell_type": "code",
   "execution_count": 19,
   "metadata": {},
   "outputs": [
    {
     "name": "stdout",
     "output_type": "stream",
     "text": [
      "Model: \"neural-network-1.0-LeNet-5-CNN-Architecture\"\n",
      "_________________________________________________________________\n",
      "Layer (type)                 Output Shape              Param #   \n",
      "=================================================================\n",
      "conv2d_3 (Conv2D)            (None, 30, 30, 6)         60        \n",
      "_________________________________________________________________\n",
      "average_pooling2d_3 (Average (None, 29, 29, 6)         0         \n",
      "_________________________________________________________________\n",
      "conv2d_4 (Conv2D)            (None, 27, 27, 16)        880       \n",
      "_________________________________________________________________\n",
      "average_pooling2d_4 (Average (None, 26, 26, 16)        0         \n",
      "_________________________________________________________________\n",
      "flatten_2 (Flatten)          (None, 10816)             0         \n",
      "_________________________________________________________________\n",
      "dense_4 (Dense)              (None, 120)               1298040   \n",
      "_________________________________________________________________\n",
      "dense_5 (Dense)              (None, 84)                10164     \n",
      "_________________________________________________________________\n",
      "dense_6 (Dense)              (None, 7)                 595       \n",
      "=================================================================\n",
      "Total params: 1,309,739\n",
      "Trainable params: 1,309,739\n",
      "Non-trainable params: 0\n",
      "_________________________________________________________________\n"
     ]
    }
   ],
   "source": [
    "def build_dense_model():\n",
    "    \"\"\"\n",
    "    This function creates a simple sequential neural network.\n",
    "    \"\"\"\n",
    "    # Sequential model\n",
    "    model = models.Sequential() \n",
    "    \n",
    "    # Hidden layers\n",
    "    model.add(layers.Conv2D(filters     = 6, \n",
    "                            kernel_size = (3,3), \n",
    "                            activation  = 'relu', \n",
    "                            input_shape = (32, 32, 1)))\n",
    "    model.add(layers.AveragePooling2D(pool_size = (2,2), \n",
    "                                      strides   = 1))\n",
    "    \n",
    "    model.add(layers.Conv2D(filters     = 16, \n",
    "                            kernel_size = (3,3), \n",
    "                            activation  = 'relu'))\n",
    "    model.add(layers.AveragePooling2D(pool_size = (2,2), \n",
    "                                      strides   = 1))    \n",
    "    \n",
    "    \n",
    "    model.add(layers.Flatten())\n",
    "    \n",
    "    model.add(layers.Dense(units = 120, \n",
    "                           activation='relu'))\n",
    "    model.add(layers.Dense(units = 84, \n",
    "                           activation='relu'))\n",
    "    \n",
    "    # Output layer\n",
    "    model.add(layers.Dense(units = 7, \n",
    "                           activation='relu'))\n",
    "    \n",
    "    # Compiler\n",
    "    model.compile(optimizer = 'rmsprop', loss='categorical_crossentropy', metrics=['accuracy'])      \n",
    "        \n",
    "    return model\n",
    "\n",
    "model = build_dense_model()\n",
    "model.name='neural-network-1.0-LeNet-5-CNN-Architecture'\n",
    "model.summary()"
   ]
  },
  {
   "cell_type": "markdown",
   "metadata": {},
   "source": [
    "<br><br>\n",
    "## Generator"
   ]
  },
  {
   "cell_type": "code",
   "execution_count": 14,
   "metadata": {},
   "outputs": [
    {
     "name": "stdout",
     "output_type": "stream",
     "text": [
      "Found 15982 images belonging to 7 classes.\n",
      "Found 4514 images belonging to 7 classes.\n",
      "Found 2341 images belonging to 7 classes.\n"
     ]
    }
   ],
   "source": [
    "# Define image generators objects\n",
    "train_datagen      = ImageDataGenerator(rescale=1./255)\n",
    "validation_datagen = ImageDataGenerator(rescale=1./255)\n",
    "test_datagen       = ImageDataGenerator(rescale=1./255)\n",
    "\n",
    "# Create image generators\n",
    "TARGET_SIZE = (32, 32)\n",
    "COLOR_MODE  = 'grayscale'\n",
    "BATCH_SIZE  = 32\n",
    "\n",
    "train_generator    = train_datagen.flow_from_directory(directory   = training_path,\n",
    "                                                       target_size = TARGET_SIZE,\n",
    "                                                       color_mode  = COLOR_MODE,\n",
    "                                                       batch_size  = BATCH_SIZE)\n",
    "\n",
    "validation_datagen = train_datagen.flow_from_directory(directory   = validation_path,\n",
    "                                                       target_size = TARGET_SIZE,\n",
    "                                                       color_mode  = COLOR_MODE,\n",
    "                                                       batch_size  = BATCH_SIZE)\n",
    "\n",
    "test_generator     = test_datagen.flow_from_directory(directory    = test_path,\n",
    "                                                      target_size  = TARGET_SIZE,\n",
    "                                                      color_mode   = COLOR_MODE,\n",
    "                                                      batch_size   = BATCH_SIZE)"
   ]
  },
  {
   "cell_type": "markdown",
   "metadata": {},
   "source": [
    "<br><br><br>\n",
    "## Run the model"
   ]
  },
  {
   "cell_type": "code",
   "execution_count": 15,
   "metadata": {},
   "outputs": [
    {
     "name": "stdout",
     "output_type": "stream",
     "text": [
      "Model: \"neural-network-1.0-LeNet-5-CNN-Architecture\"\n",
      "_________________________________________________________________\n",
      "Layer (type)                 Output Shape              Param #   \n",
      "=================================================================\n",
      "conv2d_1 (Conv2D)            (None, 30, 30, 6)         60        \n",
      "_________________________________________________________________\n",
      "average_pooling2d_1 (Average (None, 29, 29, 6)         0         \n",
      "_________________________________________________________________\n",
      "conv2d_2 (Conv2D)            (None, 27, 27, 16)        880       \n",
      "_________________________________________________________________\n",
      "average_pooling2d_2 (Average (None, 26, 26, 16)        0         \n",
      "_________________________________________________________________\n",
      "flatten_1 (Flatten)          (None, 10816)             0         \n",
      "_________________________________________________________________\n",
      "dense_1 (Dense)              (None, 120)               1298040   \n",
      "_________________________________________________________________\n",
      "dense_2 (Dense)              (None, 84)                10164     \n",
      "_________________________________________________________________\n",
      "dense_3 (Dense)              (None, 7)                 595       \n",
      "=================================================================\n",
      "Total params: 1,309,739\n",
      "Trainable params: 1,309,739\n",
      "Non-trainable params: 0\n",
      "_________________________________________________________________\n"
     ]
    }
   ],
   "source": [
    "K.clear_session()\n",
    "\n",
    "model = build_dense_model()\n",
    "model.name='neural-network-1.0-LeNet-5-CNN-Architecture'\n",
    "model.summary()"
   ]
  },
  {
   "cell_type": "code",
   "execution_count": 16,
   "metadata": {
    "scrolled": true
   },
   "outputs": [
    {
     "name": "stdout",
     "output_type": "stream",
     "text": [
      "WARNING:tensorflow:From C:\\Users\\Paulo\\anaconda3\\lib\\site-packages\\tensorflow\\python\\ops\\math_grad.py:1250: add_dispatch_support.<locals>.wrapper (from tensorflow.python.ops.array_ops) is deprecated and will be removed in a future version.\n",
      "Instructions for updating:\n",
      "Use tf.where in 2.0, which has the same broadcast rule as np.where\n",
      "Epoch 1/15\n",
      "499/499 [==============================] - 51s 102ms/step - loss: 4.3036 - accuracy: 0.3615 - val_loss: 5.2222 - val_accuracy: 0.3728\n",
      "Epoch 2/15\n",
      "499/499 [==============================] - 50s 101ms/step - loss: 4.2200 - accuracy: 0.3908 - val_loss: 3.6973 - val_accuracy: 0.3782\n",
      "Epoch 3/15\n",
      "499/499 [==============================] - 51s 102ms/step - loss: 4.2290 - accuracy: 0.4006 - val_loss: 3.0949 - val_accuracy: 0.3782\n",
      "Epoch 4/15\n",
      "499/499 [==============================] - 50s 101ms/step - loss: 4.2156 - accuracy: 0.4002 - val_loss: 5.7837 - val_accuracy: 0.3882\n",
      "Epoch 5/15\n",
      "499/499 [==============================] - 50s 100ms/step - loss: 4.2161 - accuracy: 0.4049 - val_loss: 4.1939 - val_accuracy: 0.3864\n",
      "Epoch 6/15\n",
      "499/499 [==============================] - 51s 102ms/step - loss: 4.1939 - accuracy: 0.4076 - val_loss: 4.6920 - val_accuracy: 0.3788\n",
      "Epoch 7/15\n",
      "499/499 [==============================] - 50s 101ms/step - loss: nan - accuracy: 0.3893 - val_loss: nan - val_accuracy: 0.1555\n",
      "Epoch 8/15\n",
      "499/499 [==============================] - 50s 101ms/step - loss: nan - accuracy: 0.1539 - val_loss: nan - val_accuracy: 0.1537\n",
      "Epoch 9/15\n",
      "499/499 [==============================] - 50s 101ms/step - loss: nan - accuracy: 0.1534 - val_loss: nan - val_accuracy: 0.1546\n",
      "Epoch 10/15\n",
      "499/499 [==============================] - 51s 102ms/step - loss: nan - accuracy: 0.1533 - val_loss: nan - val_accuracy: 0.1513\n",
      "Epoch 11/15\n",
      "499/499 [==============================] - 50s 100ms/step - loss: nan - accuracy: 0.1540 - val_loss: nan - val_accuracy: 0.1537\n",
      "Epoch 12/15\n",
      "499/499 [==============================] - 50s 100ms/step - loss: nan - accuracy: 0.1541 - val_loss: nan - val_accuracy: 0.1531\n",
      "Epoch 13/15\n",
      "499/499 [==============================] - 50s 100ms/step - loss: nan - accuracy: 0.1545 - val_loss: nan - val_accuracy: 0.1542\n",
      "Epoch 14/15\n",
      "499/499 [==============================] - 50s 100ms/step - loss: nan - accuracy: 0.1526 - val_loss: nan - val_accuracy: 0.1526\n",
      "Epoch 15/15\n",
      "499/499 [==============================] - 51s 102ms/step - loss: nan - accuracy: 0.1539 - val_loss: nan - val_accuracy: 0.1573\n"
     ]
    }
   ],
   "source": [
    "history = model.fit_generator(generator           = train_generator,\n",
    "                              steps_per_epoch     = train_generator.n // train_generator.batch_size,\n",
    "                              epochs              = 15,\n",
    "                              validation_data     = validation_datagen,\n",
    "                              validation_steps    = validation_datagen.n // validation_datagen.batch_size,\n",
    "                              verbose             = 1,\n",
    "                              workers             = (multiprocessing.cpu_count()),\n",
    "                              use_multiprocessing = False  # Not sure why it should be false, gives an error when true.\n",
    "                             )"
   ]
  },
  {
   "cell_type": "markdown",
   "metadata": {},
   "source": [
    "<br><br><br>\n",
    "## Save results and plot results"
   ]
  },
  {
   "cell_type": "code",
   "execution_count": 17,
   "metadata": {},
   "outputs": [],
   "source": [
    "# Save results\n",
    "model.save_weights('models-and-results/neural-network-1.0-lenet-5-weights.h5')\n",
    "model.save('models-and-results/neural-network-1.0-lenet-5-model.h5')\n",
    "save_history_model(history          = history,\n",
    "                   filename         = 'neural-network-1.0-lenet-5-history', \n",
    "                   storage_location = 'models-and-results')"
   ]
  },
  {
   "cell_type": "code",
   "execution_count": 17,
   "metadata": {},
   "outputs": [
    {
     "data": {
      "image/png": "[encoded data removed]",
      "text/plain": [
       "<Figure size 432x288 with 1 Axes>"
      ]
     },
     "metadata": {
      "needs_background": "light"
     },
     "output_type": "display_data"
    },
    {
     "data": {
      "image/png": "[encoded data removed]",
      "text/plain": [
       "<Figure size 432x288 with 1 Axes>"
      ]
     },
     "metadata": {
      "needs_background": "light"
     },
     "output_type": "display_data"
    }
   ],
   "source": [
    "# Plot history\n",
    "plot_history(history, line1='accuracy', line2='val_accuracy',\n",
    "             x_as = 'Epochs', y_as = 'Accuracy', title = 'neural-network-1.0-lenet-5 Accuracy')\n",
    "\n",
    "plot_history(history, line1='loss', line2='val_loss',\n",
    "             x_as = 'Epochs', y_as = 'Loss', title = 'neural-network-1.0-lenet-5 Loss')"
   ]
  },
  {
   "cell_type": "markdown",
   "metadata": {},
   "source": [
    "<br><br><br><br><br><br><br><br>\n",
    "# Neural Network 1.1 - LeNet-5 CNN Architecture - BatchNormalization/Softmax\n",
    "Modified the original LeNet-5 structure by:\n",
    "* 1. Adding **two** BatchNormalization() layers **after** the Conv2D layers. \n",
    "* 2. Adding changing the output layers to an activation **softmax** instead of the **assumed** relu."
   ]
  },
  {
   "cell_type": "markdown",
   "metadata": {},
   "source": [
    "<br><br>\n",
    "## Functions"
   ]
  },
  {
   "cell_type": "code",
   "execution_count": 21,
   "metadata": {},
   "outputs": [
    {
     "name": "stdout",
     "output_type": "stream",
     "text": [
      "Model: \"neural-network-1.1-LeNet-5-CNN-Architecture\"\n",
      "_________________________________________________________________\n",
      "Layer (type)                 Output Shape              Param #   \n",
      "=================================================================\n",
      "conv2d_7 (Conv2D)            (None, 30, 30, 6)         60        \n",
      "_________________________________________________________________\n",
      "batch_normalization_3 (Batch (None, 30, 30, 6)         24        \n",
      "_________________________________________________________________\n",
      "average_pooling2d_7 (Average (None, 29, 29, 6)         0         \n",
      "_________________________________________________________________\n",
      "conv2d_8 (Conv2D)            (None, 27, 27, 16)        880       \n",
      "_________________________________________________________________\n",
      "batch_normalization_4 (Batch (None, 27, 27, 16)        64        \n",
      "_________________________________________________________________\n",
      "average_pooling2d_8 (Average (None, 26, 26, 16)        0         \n",
      "_________________________________________________________________\n",
      "flatten_4 (Flatten)          (None, 10816)             0         \n",
      "_________________________________________________________________\n",
      "dense_10 (Dense)             (None, 120)               1298040   \n",
      "_________________________________________________________________\n",
      "dense_11 (Dense)             (None, 84)                10164     \n",
      "_________________________________________________________________\n",
      "dense_12 (Dense)             (None, 7)                 595       \n",
      "=================================================================\n",
      "Total params: 1,309,827\n",
      "Trainable params: 1,309,783\n",
      "Non-trainable params: 44\n",
      "_________________________________________________________________\n"
     ]
    }
   ],
   "source": [
    "def build_dense_model():\n",
    "    \"\"\"\n",
    "    This function creates a simple sequential neural network.\n",
    "    \"\"\"\n",
    "    # Sequential model\n",
    "    model = models.Sequential() \n",
    "    \n",
    "    # Hidden layers\n",
    "    model.add(layers.Conv2D(filters     = 6, \n",
    "                            kernel_size = (3,3), \n",
    "                            activation  = 'relu', \n",
    "                            input_shape = (32, 32, 1)))\n",
    "    model.add(layers.BatchNormalization())\n",
    "    model.add(layers.AveragePooling2D(pool_size = (2,2), \n",
    "                                      strides   = 1))\n",
    "    \n",
    "    model.add(layers.Conv2D(filters     = 16, \n",
    "                            kernel_size = (3,3), \n",
    "                            activation  = 'relu'))\n",
    "    model.add(layers.BatchNormalization())\n",
    "    model.add(layers.AveragePooling2D(pool_size = (2,2), \n",
    "                                      strides   = 1))    \n",
    "    \n",
    "    \n",
    "    model.add(layers.Flatten())\n",
    "    \n",
    "    model.add(layers.Dense(units = 120, \n",
    "                           activation='relu'))\n",
    "    model.add(layers.Dense(units = 84, \n",
    "                           activation='relu'))\n",
    "    \n",
    "    # Output layer\n",
    "    model.add(layers.Dense(units = 7, \n",
    "                           activation='softmax'))\n",
    "    \n",
    "    # Compiler\n",
    "    model.compile(optimizer = 'rmsprop', loss='categorical_crossentropy', metrics=['accuracy'])      \n",
    "        \n",
    "    return model\n",
    "\n",
    "model = build_dense_model()\n",
    "model.name='neural-network-1.1-LeNet-5-CNN-Architecture'\n",
    "model.summary()"
   ]
  },
  {
   "cell_type": "markdown",
   "metadata": {},
   "source": [
    "<br><br>\n",
    "## Generator"
   ]
  },
  {
   "cell_type": "code",
   "execution_count": 22,
   "metadata": {},
   "outputs": [
    {
     "name": "stdout",
     "output_type": "stream",
     "text": [
      "Found 15982 images belonging to 7 classes.\n",
      "Found 4514 images belonging to 7 classes.\n",
      "Found 2341 images belonging to 7 classes.\n"
     ]
    }
   ],
   "source": [
    "# Define image generators objects\n",
    "train_datagen      = ImageDataGenerator(rescale=1./255)\n",
    "validation_datagen = ImageDataGenerator(rescale=1./255)\n",
    "test_datagen       = ImageDataGenerator(rescale=1./255)\n",
    "\n",
    "# Create image generators\n",
    "TARGET_SIZE = (32, 32)\n",
    "COLOR_MODE  = 'grayscale'\n",
    "BATCH_SIZE  = 32\n",
    "\n",
    "train_generator    = train_datagen.flow_from_directory(directory   = training_path,\n",
    "                                                       target_size = TARGET_SIZE,\n",
    "                                                       color_mode  = COLOR_MODE,\n",
    "                                                       batch_size  = BATCH_SIZE)\n",
    "\n",
    "validation_datagen = train_datagen.flow_from_directory(directory   = validation_path,\n",
    "                                                       target_size = TARGET_SIZE,\n",
    "                                                       color_mode  = COLOR_MODE,\n",
    "                                                       batch_size  = BATCH_SIZE)\n",
    "\n",
    "test_generator     = test_datagen.flow_from_directory(directory    = test_path,\n",
    "                                                      target_size  = TARGET_SIZE,\n",
    "                                                      color_mode   = COLOR_MODE,\n",
    "                                                      batch_size   = BATCH_SIZE)"
   ]
  },
  {
   "cell_type": "markdown",
   "metadata": {},
   "source": [
    "<br><br><br>\n",
    "## Run the model"
   ]
  },
  {
   "cell_type": "code",
   "execution_count": 23,
   "metadata": {
    "scrolled": true
   },
   "outputs": [
    {
     "name": "stdout",
     "output_type": "stream",
     "text": [
      "Model: \"neural-network-1.1-LeNet-5-CNN-Architecture\"\n",
      "_________________________________________________________________\n",
      "Layer (type)                 Output Shape              Param #   \n",
      "=================================================================\n",
      "conv2d_1 (Conv2D)            (None, 30, 30, 6)         60        \n",
      "_________________________________________________________________\n",
      "batch_normalization_1 (Batch (None, 30, 30, 6)         24        \n",
      "_________________________________________________________________\n",
      "average_pooling2d_1 (Average (None, 29, 29, 6)         0         \n",
      "_________________________________________________________________\n",
      "conv2d_2 (Conv2D)            (None, 27, 27, 16)        880       \n",
      "_________________________________________________________________\n",
      "batch_normalization_2 (Batch (None, 27, 27, 16)        64        \n",
      "_________________________________________________________________\n",
      "average_pooling2d_2 (Average (None, 26, 26, 16)        0         \n",
      "_________________________________________________________________\n",
      "flatten_1 (Flatten)          (None, 10816)             0         \n",
      "_________________________________________________________________\n",
      "dense_1 (Dense)              (None, 120)               1298040   \n",
      "_________________________________________________________________\n",
      "dense_2 (Dense)              (None, 84)                10164     \n",
      "_________________________________________________________________\n",
      "dense_3 (Dense)              (None, 7)                 595       \n",
      "=================================================================\n",
      "Total params: 1,309,827\n",
      "Trainable params: 1,309,783\n",
      "Non-trainable params: 44\n",
      "_________________________________________________________________\n"
     ]
    }
   ],
   "source": [
    "K.clear_session()\n",
    "\n",
    "model = build_dense_model()\n",
    "model.name='neural-network-1.1-LeNet-5-CNN-Architecture'\n",
    "model.summary()"
   ]
  },
  {
   "cell_type": "code",
   "execution_count": 24,
   "metadata": {
    "scrolled": true
   },
   "outputs": [
    {
     "name": "stdout",
     "output_type": "stream",
     "text": [
      "Epoch 1/15\n",
      "499/499 [==============================] - 74s 147ms/step - loss: 1.8007 - accuracy: 0.3559 - val_loss: 1.7355 - val_accuracy: 0.3420\n",
      "Epoch 2/15\n",
      "499/499 [==============================] - 72s 145ms/step - loss: 1.5229 - accuracy: 0.4262 - val_loss: 2.1539 - val_accuracy: 0.3920\n",
      "Epoch 3/15\n",
      "499/499 [==============================] - 68s 136ms/step - loss: 1.3114 - accuracy: 0.5001 - val_loss: 2.0746 - val_accuracy: 0.3800\n",
      "Epoch 4/15\n",
      "499/499 [==============================] - 66s 132ms/step - loss: 1.0491 - accuracy: 0.6043 - val_loss: 1.4958 - val_accuracy: 0.3757\n",
      "Epoch 5/15\n",
      "499/499 [==============================] - 67s 134ms/step - loss: 0.7916 - accuracy: 0.7088 - val_loss: 2.2571 - val_accuracy: 0.3503\n",
      "Epoch 6/15\n",
      "499/499 [==============================] - 67s 133ms/step - loss: 0.5720 - accuracy: 0.7972 - val_loss: 1.5757 - val_accuracy: 0.3278\n",
      "Epoch 7/15\n",
      "499/499 [==============================] - 68s 135ms/step - loss: 0.4152 - accuracy: 0.8536 - val_loss: 2.2115 - val_accuracy: 0.3545\n",
      "Epoch 8/15\n",
      "499/499 [==============================] - 63s 127ms/step - loss: 0.3226 - accuracy: 0.8930 - val_loss: 4.2965 - val_accuracy: 0.3456\n",
      "Epoch 9/15\n",
      "499/499 [==============================] - 65s 130ms/step - loss: 0.2565 - accuracy: 0.9182 - val_loss: 4.4382 - val_accuracy: 0.3367\n",
      "Epoch 10/15\n",
      "499/499 [==============================] - 68s 136ms/step - loss: 0.2246 - accuracy: 0.9274 - val_loss: 4.6851 - val_accuracy: 0.3389\n",
      "Epoch 11/15\n",
      "499/499 [==============================] - 64s 128ms/step - loss: 0.1997 - accuracy: 0.9390 - val_loss: 2.2671 - val_accuracy: 0.3362\n",
      "Epoch 12/15\n",
      "499/499 [==============================] - 59s 118ms/step - loss: 0.1864 - accuracy: 0.9462 - val_loss: 5.0132 - val_accuracy: 0.3385\n",
      "Epoch 13/15\n",
      "499/499 [==============================] - 62s 124ms/step - loss: 0.1768 - accuracy: 0.9484 - val_loss: 4.2183 - val_accuracy: 0.3411\n",
      "Epoch 14/15\n",
      "499/499 [==============================] - 67s 135ms/step - loss: 0.1652 - accuracy: 0.9542 - val_loss: 8.4102 - val_accuracy: 0.3456\n",
      "Epoch 15/15\n",
      "499/499 [==============================] - 63s 125ms/step - loss: 0.1541 - accuracy: 0.9573 - val_loss: 5.4332 - val_accuracy: 0.3237\n"
     ]
    }
   ],
   "source": [
    "history = model.fit_generator(generator           = train_generator,\n",
    "                              steps_per_epoch     = train_generator.n // train_generator.batch_size,\n",
    "                              epochs              = 15,\n",
    "                              validation_data     = validation_datagen,\n",
    "                              validation_steps    = validation_datagen.n // validation_datagen.batch_size,\n",
    "                              verbose             = 1,\n",
    "                              workers             = (multiprocessing.cpu_count()),\n",
    "                              use_multiprocessing = False  # Not sure why it should be false, gives an error when true.\n",
    "                             )"
   ]
  },
  {
   "cell_type": "markdown",
   "metadata": {},
   "source": [
    "<br><br><br>\n",
    "## Save results and plot results"
   ]
  },
  {
   "cell_type": "code",
   "execution_count": 26,
   "metadata": {},
   "outputs": [],
   "source": [
    "# Save results\n",
    "model.save_weights('models-and-results/neural-network-1.1-lenet-5-weights.h5')\n",
    "model.save('models-and-results/neural-network-1.1-lenet-5-model.h5')\n",
    "save_history_model(history          = history,\n",
    "                   filename         = 'neural-network-1.1-lenet-5-history', \n",
    "                   storage_location = 'models-and-results')"
   ]
  },
  {
   "cell_type": "code",
   "execution_count": 19,
   "metadata": {},
   "outputs": [
    {
     "data": {
      "image/png": "[encoded data removed]",
      "text/plain": [
       "<Figure size 432x288 with 1 Axes>"
      ]
     },
     "metadata": {
      "needs_background": "light"
     },
     "output_type": "display_data"
    },
    {
     "data": {
      "image/png": "[encoded data removed]",
      "text/plain": [
       "<Figure size 432x288 with 1 Axes>"
      ]
     },
     "metadata": {
      "needs_background": "light"
     },
     "output_type": "display_data"
    }
   ],
   "source": [
    "# Plot history\n",
    "plot_history(history, line1='accuracy', line2='val_accuracy',\n",
    "             x_as = 'Epochs', y_as = 'Accuracy', title = 'neural-network-1.1-lenet-5 Accuracy')\n",
    "\n",
    "plot_history(history, line1='loss', line2='val_loss',\n",
    "             x_as = 'Epochs', y_as = 'Loss', title = 'neural-network-1.1-lenet-5 Loss')"
   ]
  },
  {
   "cell_type": "markdown",
   "metadata": {},
   "source": [
    "------\n",
    "\n",
    "<br><br><br><br>\n",
    "# Neural Network 2.0 - LeNet-5 CNN (proposed improved version)"
   ]
  },
  {
   "cell_type": "markdown",
   "metadata": {},
   "source": [
    "<br><br>\n",
    "## Functions"
   ]
  },
  {
   "cell_type": "code",
   "execution_count": 6,
   "metadata": {},
   "outputs": [],
   "source": [
    "def build_model():\n",
    "    \"\"\"\n",
    "    This function creates a simple sequential neural network.\n",
    "    \"\"\"\n",
    "    # Sequential model\n",
    "    model = models.Sequential() \n",
    "    \n",
    "    # Hidden layers\n",
    "    model.add(layers.Conv2D(filters     = 6, \n",
    "                            kernel_size = (7, 7),        # Fiters from (3, 3) to (7, 7)\n",
    "                            activation  = 'relu', \n",
    "                            input_shape = (200, 200, 3)))\n",
    "    model.add(layers.MaxPooling2D(pool_size = (2,2), \n",
    "                                      strides   = 2))     # Assumed based on trial and error, not mentioned in the paper\n",
    "    \n",
    "    model.add(layers.Conv2D(filters     = 16, \n",
    "                            kernel_size = (3,3), \n",
    "                            activation  = 'relu'))\n",
    "    model.add(layers.MaxPooling2D(pool_size = (2,2), \n",
    "                                      strides   = 2))     # Assumed based on trial and error, not mentioned in the paper\n",
    "    \n",
    "    \n",
    "    model.add(layers.Flatten())\n",
    "    \n",
    "    model.add(layers.Dense(units = 120, \n",
    "                           activation='relu'))\n",
    "    model.add(layers.Dropout(rate = 0.5))                # Dropout layer added\n",
    "    \n",
    "    # Output layer\n",
    "    model.add(layers.Dense(units = 7, \n",
    "                           activation='softmax'))        # Softmax instead of relu\n",
    "    \n",
    "    # Compiler\n",
    "    model.compile(optimizer = 'rmsprop', loss='categorical_crossentropy', metrics=['accuracy'])      \n",
    "        \n",
    "    return model"
   ]
  },
  {
   "cell_type": "markdown",
   "metadata": {},
   "source": [
    "<br><br>\n",
    "## Generator"
   ]
  },
  {
   "cell_type": "code",
   "execution_count": 7,
   "metadata": {},
   "outputs": [
    {
     "name": "stdout",
     "output_type": "stream",
     "text": [
      "Found 15990 images belonging to 7 classes.\n",
      "Found 4584 images belonging to 7 classes.\n",
      "Found 2263 images belonging to 7 classes.\n"
     ]
    }
   ],
   "source": [
    "# Define image generators objects\n",
    "train_datagen      = ImageDataGenerator(rescale=1./255)\n",
    "validation_datagen = ImageDataGenerator(rescale=1./255)\n",
    "test_datagen       = ImageDataGenerator(rescale=1./255)\n",
    "\n",
    "# Create image generators\n",
    "TARGET_SIZE = (200, 200)\n",
    "COLOR_MODE  = 'rgb'\n",
    "BATCH_SIZE  = 32\n",
    "\n",
    "train_generator    = train_datagen.flow_from_directory(directory   = training_path,\n",
    "                                                       target_size = TARGET_SIZE,\n",
    "                                                       color_mode  = COLOR_MODE,\n",
    "                                                       batch_size  = BATCH_SIZE)\n",
    "\n",
    "validation_datagen = train_datagen.flow_from_directory(directory   = validation_path,\n",
    "                                                       target_size = TARGET_SIZE,\n",
    "                                                       color_mode  = COLOR_MODE,\n",
    "                                                       batch_size  = BATCH_SIZE)\n",
    "\n",
    "test_generator     = test_datagen.flow_from_directory(directory    = test_path,\n",
    "                                                      target_size  = TARGET_SIZE,\n",
    "                                                      color_mode   = COLOR_MODE,\n",
    "                                                      batch_size   = BATCH_SIZE)"
   ]
  },
  {
   "cell_type": "markdown",
   "metadata": {},
   "source": [
    "<br><br><br>\n",
    "## Run the model"
   ]
  },
  {
   "cell_type": "code",
   "execution_count": 8,
   "metadata": {},
   "outputs": [
    {
     "name": "stdout",
     "output_type": "stream",
     "text": [
      "Model: \"neural-network-2.0-LeNet-5-proposed-improved-CNN-Architecture\"\n",
      "_________________________________________________________________\n",
      "Layer (type)                 Output Shape              Param #   \n",
      "=================================================================\n",
      "conv2d_1 (Conv2D)            (None, 194, 194, 6)       888       \n",
      "_________________________________________________________________\n",
      "max_pooling2d_1 (MaxPooling2 (None, 97, 97, 6)         0         \n",
      "_________________________________________________________________\n",
      "conv2d_2 (Conv2D)            (None, 95, 95, 16)        880       \n",
      "_________________________________________________________________\n",
      "max_pooling2d_2 (MaxPooling2 (None, 47, 47, 16)        0         \n",
      "_________________________________________________________________\n",
      "flatten_1 (Flatten)          (None, 35344)             0         \n",
      "_________________________________________________________________\n",
      "dense_1 (Dense)              (None, 120)               4241400   \n",
      "_________________________________________________________________\n",
      "dropout_1 (Dropout)          (None, 120)               0         \n",
      "_________________________________________________________________\n",
      "dense_2 (Dense)              (None, 7)                 847       \n",
      "=================================================================\n",
      "Total params: 4,244,015\n",
      "Trainable params: 4,244,015\n",
      "Non-trainable params: 0\n",
      "_________________________________________________________________\n"
     ]
    }
   ],
   "source": [
    "K.clear_session()\n",
    "\n",
    "model = build_model()\n",
    "model.name='neural-network-2.0-LeNet-5-proposed-improved-CNN-Architecture'\n",
    "model.summary()"
   ]
  },
  {
   "cell_type": "code",
   "execution_count": 10,
   "metadata": {
    "scrolled": true
   },
   "outputs": [
    {
     "name": "stdout",
     "output_type": "stream",
     "text": [
      "Epoch 1/15\n",
      "499/499 [==============================] - 714s 1s/step - loss: 1.8007 - accuracy: 0.3425 - val_loss: 1.3917 - val_accuracy: 0.3748\n",
      "Epoch 2/15\n",
      "499/499 [==============================] - 707s 1s/step - loss: 1.6571 - accuracy: 0.3903 - val_loss: 1.7082 - val_accuracy: 0.4062\n",
      "Epoch 3/15\n",
      "499/499 [==============================] - 697s 1s/step - loss: 1.5894 - accuracy: 0.4106 - val_loss: 2.1242 - val_accuracy: 0.3992\n",
      "Epoch 4/15\n",
      "499/499 [==============================] - 711s 1s/step - loss: 1.5565 - accuracy: 0.4285 - val_loss: 1.4861 - val_accuracy: 0.4139\n",
      "Epoch 5/15\n",
      "499/499 [==============================] - 691s 1s/step - loss: 1.4667 - accuracy: 0.4522 - val_loss: 1.3906 - val_accuracy: 0.4225\n",
      "Epoch 6/15\n",
      "499/499 [==============================] - 691s 1s/step - loss: 1.4062 - accuracy: 0.4778 - val_loss: 1.5581 - val_accuracy: 0.4238\n",
      "Epoch 7/15\n",
      "499/499 [==============================] - 704s 1s/step - loss: 1.3342 - accuracy: 0.5061 - val_loss: 1.7403 - val_accuracy: 0.3954\n",
      "Epoch 8/15\n",
      "499/499 [==============================] - 695s 1s/step - loss: 1.2593 - accuracy: 0.5402 - val_loss: 1.2807 - val_accuracy: 0.4264\n",
      "Epoch 9/15\n",
      "499/499 [==============================] - 700s 1s/step - loss: 1.1704 - accuracy: 0.5720 - val_loss: 1.9069 - val_accuracy: 0.3730\n",
      "Epoch 10/15\n",
      "499/499 [==============================] - 763s 2s/step - loss: 1.0831 - accuracy: 0.6073 - val_loss: 1.6715 - val_accuracy: 0.3932\n",
      "Epoch 11/15\n",
      "499/499 [==============================] - 938s 2s/step - loss: 1.0011 - accuracy: 0.6393 - val_loss: 1.8771 - val_accuracy: 0.4051\n",
      "Epoch 12/15\n",
      "499/499 [==============================] - 923s 2s/step - loss: 0.9332 - accuracy: 0.6663 - val_loss: 1.4022 - val_accuracy: 0.4126\n",
      "Epoch 13/15\n",
      "499/499 [==============================] - 935s 2s/step - loss: 0.8503 - accuracy: 0.6967 - val_loss: 2.0367 - val_accuracy: 0.3636\n",
      "Epoch 14/15\n",
      "499/499 [==============================] - 925s 2s/step - loss: 0.8040 - accuracy: 0.7193 - val_loss: 2.1220 - val_accuracy: 0.3899\n",
      "Epoch 15/15\n",
      "499/499 [==============================] - 914s 2s/step - loss: 0.7466 - accuracy: 0.7379 - val_loss: 2.4121 - val_accuracy: 0.3847\n"
     ]
    }
   ],
   "source": [
    "history = model.fit_generator(generator           = train_generator,\n",
    "                              steps_per_epoch     = train_generator.n // train_generator.batch_size,\n",
    "                              epochs              = 15,    # Paper stated that it converged after 15/100 epochs\n",
    "                              validation_data     = validation_datagen,\n",
    "                              validation_steps    = validation_datagen.n // validation_datagen.batch_size,\n",
    "                              verbose             = 1,\n",
    "                              workers             = multiprocessing.cpu_count(),\n",
    "                              use_multiprocessing = False  # Not sure why it should be false, gives an error when true.\n",
    "                             )"
   ]
  },
  {
   "cell_type": "markdown",
   "metadata": {},
   "source": [
    "<br><br><br>\n",
    "## Save results and plot results"
   ]
  },
  {
   "cell_type": "code",
   "execution_count": 13,
   "metadata": {},
   "outputs": [],
   "source": [
    "# Save results\n",
    "model.save_weights('models-and-results/neural-network-2.0-lenet-5-proposed-model-weights.h5')\n",
    "model.save('models-and-results/neural-network-2.0-lenet-5-proposed-model-model.h5')\n",
    "save_history_model(history          = history,\n",
    "                   filename         = 'neural-network-2.0-lenet-5-proposed-model-history', \n",
    "                   storage_location = 'models-and-results')"
   ]
  },
  {
   "cell_type": "code",
   "execution_count": 14,
   "metadata": {},
   "outputs": [
    {
     "data": {
      "image/png": "[encoded data removed]",
      "text/plain": [
       "<Figure size 432x288 with 1 Axes>"
      ]
     },
     "metadata": {
      "needs_background": "light"
     },
     "output_type": "display_data"
    },
    {
     "data": {
      "image/png": "[encoded data removed]",
      "text/plain": [
       "<Figure size 432x288 with 1 Axes>"
      ]
     },
     "metadata": {
      "needs_background": "light"
     },
     "output_type": "display_data"
    }
   ],
   "source": [
    "# Plot history\n",
    "plot_history(history, line1='accuracy', line2='val_accuracy',\n",
    "             x_as = 'Epochs', y_as = 'Accuracy', title = 'neural-network-2.0-lenet-5-proposed-model Accuracy')\n",
    "\n",
    "plot_history(history, line1='loss', line2='val_loss',\n",
    "             x_as = 'Epochs', y_as = 'Loss', title = 'neural-network-2.0-lenet-5-proposed-model Loss')"
   ]
  },
  {
   "cell_type": "markdown",
   "metadata": {},
   "source": [
    "------\n",
    "\n",
    "<br><br><br><br>\n",
    "# Neural Network 3.0 - Transfer Learning - VGG16"
   ]
  },
  {
   "cell_type": "markdown",
   "metadata": {},
   "source": [
    "<br><br>\n",
    "## Define/import the model"
   ]
  },
  {
   "cell_type": "code",
   "execution_count": 251,
   "metadata": {
    "scrolled": true
   },
   "outputs": [
    {
     "name": "stdout",
     "output_type": "stream",
     "text": [
      "Model: \"neural-network-3.0-transfer-learning-vgg16\"\n",
      "_________________________________________________________________\n",
      "Layer (type)                 Output Shape              Param #   \n",
      "=================================================================\n",
      "input_1 (InputLayer)         (None, 200, 200, 3)       0         \n",
      "_________________________________________________________________\n",
      "block1_conv1 (Conv2D)        (None, 200, 200, 64)      1792      \n",
      "_________________________________________________________________\n",
      "block1_conv2 (Conv2D)        (None, 200, 200, 64)      36928     \n",
      "_________________________________________________________________\n",
      "block1_pool (MaxPooling2D)   (None, 100, 100, 64)      0         \n",
      "_________________________________________________________________\n",
      "block2_conv1 (Conv2D)        (None, 100, 100, 128)     73856     \n",
      "_________________________________________________________________\n",
      "block2_conv2 (Conv2D)        (None, 100, 100, 128)     147584    \n",
      "_________________________________________________________________\n",
      "block2_pool (MaxPooling2D)   (None, 50, 50, 128)       0         \n",
      "_________________________________________________________________\n",
      "block3_conv1 (Conv2D)        (None, 50, 50, 256)       295168    \n",
      "_________________________________________________________________\n",
      "block3_conv2 (Conv2D)        (None, 50, 50, 256)       590080    \n",
      "_________________________________________________________________\n",
      "block3_conv3 (Conv2D)        (None, 50, 50, 256)       590080    \n",
      "_________________________________________________________________\n",
      "block3_pool (MaxPooling2D)   (None, 25, 25, 256)       0         \n",
      "_________________________________________________________________\n",
      "block4_conv1 (Conv2D)        (None, 25, 25, 512)       1180160   \n",
      "_________________________________________________________________\n",
      "block4_conv2 (Conv2D)        (None, 25, 25, 512)       2359808   \n",
      "_________________________________________________________________\n",
      "block4_conv3 (Conv2D)        (None, 25, 25, 512)       2359808   \n",
      "_________________________________________________________________\n",
      "block4_pool (MaxPooling2D)   (None, 12, 12, 512)       0         \n",
      "_________________________________________________________________\n",
      "block5_conv1 (Conv2D)        (None, 12, 12, 512)       2359808   \n",
      "_________________________________________________________________\n",
      "block5_conv2 (Conv2D)        (None, 12, 12, 512)       2359808   \n",
      "_________________________________________________________________\n",
      "block5_conv3 (Conv2D)        (None, 12, 12, 512)       2359808   \n",
      "_________________________________________________________________\n",
      "block5_pool (MaxPooling2D)   (None, 6, 6, 512)         0         \n",
      "_________________________________________________________________\n",
      "flatten_1 (Flatten)          (None, 18432)             0         \n",
      "_________________________________________________________________\n",
      "fc1 (Dense)                  (None, 512)               9437696   \n",
      "_________________________________________________________________\n",
      "fc2 (Dense)                  (None, 512)               262656    \n",
      "_________________________________________________________________\n",
      "predictions (Dense)          (None, 7)                 3591      \n",
      "=================================================================\n",
      "Total params: 24,418,631\n",
      "Trainable params: 266,247\n",
      "Non-trainable params: 24,152,384\n",
      "_________________________________________________________________\n"
     ]
    },
    {
     "name": "stderr",
     "output_type": "stream",
     "text": [
      "C:\\Users\\Paulo\\anaconda3\\lib\\site-packages\\ipykernel_launcher.py:17: UserWarning: Update your `Model` call to the Keras 2 API: `Model(inputs=Tensor(\"in..., outputs=Tensor(\"pr...)`\n"
     ]
    }
   ],
   "source": [
    "K.clear_session()\n",
    "\n",
    "# Generate model without top layers\n",
    "vgg16 = VGG16(weights = 'imagenet', include_top = False, input_shape=(200, 200, 3))\n",
    "\n",
    "# Extract information of the last layer of VGG16\n",
    "layer_dict = dict([(layer.name, layer) for layer in vgg16.layers])\n",
    "x = layer_dict[vgg16.layers[-1].name].output\n",
    "\n",
    "# Add layers\n",
    "x = Flatten()(x)\n",
    "x = Dense(512, activation='relu', name='fc1')(x)           # Change this to 512 instead of 4096\n",
    "x = Dense(512, activation='relu', name='fc2')(x)           # Change this to 512 instead of 4096\n",
    "x = Dense(7, activation='softmax', name='predictions')(x)  # Output layer\n",
    "\n",
    "# Combine vgg16 layer with my own layers\n",
    "model = Model(input = vgg16.input, output = x)\n",
    "\n",
    "# Freeze everything EXCEPT the last 2 FC layers (of the 3)\n",
    "for layer in model.layers[:-2]:\n",
    "    layer.trainable = False\n",
    "    \n",
    "# Add compiler\n",
    "model.compile(optimizer = 'rmsprop', loss='categorical_crossentropy', metrics=['accuracy']) \n",
    "\n",
    "# Name the model\n",
    "model.name='neural-network-3.0-transfer-learning-vgg16'\n",
    "\n",
    "# Show summary\n",
    "model.summary()"
   ]
  },
  {
   "cell_type": "markdown",
   "metadata": {},
   "source": [
    "<br><br>\n",
    "## Generator"
   ]
  },
  {
   "cell_type": "code",
   "execution_count": 252,
   "metadata": {
    "scrolled": true
   },
   "outputs": [
    {
     "name": "stdout",
     "output_type": "stream",
     "text": [
      "Found 15982 images belonging to 7 classes.\n",
      "Found 4514 images belonging to 7 classes.\n",
      "Found 2341 images belonging to 7 classes.\n"
     ]
    }
   ],
   "source": [
    "# Define image generators objects\n",
    "train_datagen      = ImageDataGenerator(rescale=1./255)\n",
    "validation_datagen = ImageDataGenerator(rescale=1./255)\n",
    "test_datagen       = ImageDataGenerator(rescale=1./255)\n",
    "\n",
    "# Create image generators\n",
    "TARGET_SIZE = (200, 200)\n",
    "COLOR_MODE  = 'rgb'      # Model VVG16 expects rgb\n",
    "BATCH_SIZE  = 32\n",
    "\n",
    "train_generator    = train_datagen.flow_from_directory(directory   = training_path,\n",
    "                                                       target_size = TARGET_SIZE,\n",
    "                                                       color_mode  = COLOR_MODE,\n",
    "                                                       batch_size  = BATCH_SIZE)\n",
    "\n",
    "validation_datagen = train_datagen.flow_from_directory(directory   = validation_path,\n",
    "                                                       target_size = TARGET_SIZE,\n",
    "                                                       color_mode  = COLOR_MODE,\n",
    "                                                       batch_size  = BATCH_SIZE)\n",
    "\n",
    "test_generator     = test_datagen.flow_from_directory(directory    = test_path,\n",
    "                                                      target_size  = TARGET_SIZE,\n",
    "                                                      color_mode   = COLOR_MODE,\n",
    "                                                      batch_size   = BATCH_SIZE)"
   ]
  },
  {
   "cell_type": "markdown",
   "metadata": {},
   "source": [
    "<br><br><br>\n",
    "## Run the model"
   ]
  },
  {
   "cell_type": "code",
   "execution_count": 253,
   "metadata": {
    "scrolled": true
   },
   "outputs": [
    {
     "name": "stdout",
     "output_type": "stream",
     "text": [
      "Epoch 1/15\n",
      "499/499 [==============================] - 4893s 10s/step - loss: 1.6434 - accuracy: 0.3759 - val_loss: 1.5353 - val_accuracy: 0.4320\n",
      "Epoch 2/15\n",
      "499/499 [==============================] - 4520s 9s/step - loss: 1.4758 - accuracy: 0.4368 - val_loss: 1.2851 - val_accuracy: 0.4192\n",
      "Epoch 3/15\n",
      "499/499 [==============================] - 4533s 9s/step - loss: 1.4299 - accuracy: 0.4538 - val_loss: 1.6562 - val_accuracy: 0.4447\n",
      "Epoch 4/15\n",
      "499/499 [==============================] - 4517s 9s/step - loss: 1.3969 - accuracy: 0.4610 - val_loss: 1.3375 - val_accuracy: 0.4523\n",
      "Epoch 5/15\n",
      "499/499 [==============================] - 4515s 9s/step - loss: 1.3634 - accuracy: 0.4770 - val_loss: 1.4738 - val_accuracy: 0.4326\n",
      "Epoch 6/15\n",
      "499/499 [==============================] - 4610s 9s/step - loss: 1.3376 - accuracy: 0.4888 - val_loss: 1.7146 - val_accuracy: 0.4514\n",
      "Epoch 7/15\n",
      "499/499 [==============================] - 4616s 9s/step - loss: 1.3074 - accuracy: 0.4979 - val_loss: 1.7574 - val_accuracy: 0.4440\n",
      "Epoch 8/15\n",
      "499/499 [==============================] - 4610s 9s/step - loss: 1.2793 - accuracy: 0.5083 - val_loss: 1.3280 - val_accuracy: 0.4433\n",
      "Epoch 9/15\n",
      "499/499 [==============================] - 4612s 9s/step - loss: 1.2489 - accuracy: 0.5199 - val_loss: 1.2774 - val_accuracy: 0.4496\n",
      "Epoch 10/15\n",
      "499/499 [==============================] - 4581s 9s/step - loss: 1.2235 - accuracy: 0.5297 - val_loss: 1.7662 - val_accuracy: 0.4485\n",
      "Epoch 11/15\n",
      "499/499 [==============================] - 4646s 9s/step - loss: 1.1843 - accuracy: 0.5438 - val_loss: 1.3287 - val_accuracy: 0.4400\n",
      "Epoch 12/15\n",
      "499/499 [==============================] - 4479s 9s/step - loss: 1.1525 - accuracy: 0.5566 - val_loss: 1.9140 - val_accuracy: 0.4465\n",
      "Epoch 13/15\n",
      "499/499 [==============================] - 4679s 9s/step - loss: 1.1231 - accuracy: 0.5683 - val_loss: 1.5835 - val_accuracy: 0.4500\n",
      "Epoch 14/15\n",
      "499/499 [==============================] - 4688s 9s/step - loss: 1.0887 - accuracy: 0.5792 - val_loss: 1.6648 - val_accuracy: 0.4326\n",
      "Epoch 15/15\n",
      "499/499 [==============================] - 4685s 9s/step - loss: 1.0465 - accuracy: 0.5998 - val_loss: 1.5321 - val_accuracy: 0.4369\n"
     ]
    }
   ],
   "source": [
    "history = model.fit_generator(generator           = train_generator,\n",
    "                              steps_per_epoch     = train_generator.n // train_generator.batch_size,\n",
    "                              epochs              = 15,    \n",
    "                              validation_data     = validation_datagen,\n",
    "                              validation_steps    = validation_datagen.n // validation_datagen.batch_size,\n",
    "                              verbose             = 1,\n",
    "                              workers             = multiprocessing.cpu_count())"
   ]
  },
  {
   "cell_type": "markdown",
   "metadata": {},
   "source": [
    "<br><br><br>\n",
    "## Save results and plot results"
   ]
  },
  {
   "cell_type": "code",
   "execution_count": 256,
   "metadata": {},
   "outputs": [],
   "source": [
    "# Save results\n",
    "model.save_weights('models-and-results/neural-network-3.0-transfer-learning-vgg16-weights.h5')\n",
    "model.save('models-and-results/neural-network-3.0-transfer-learning-vgg16-model.h5')\n",
    "save_history_model(history          = history,\n",
    "                   filename         = 'neural-network-3.0-transfer-learning-vgg16-history', \n",
    "                   storage_location = 'models-and-results')"
   ]
  },
  {
   "cell_type": "code",
   "execution_count": 257,
   "metadata": {},
   "outputs": [
    {
     "data": {
      "image/png": "[encoded data removed]",
      "text/plain": [
       "<Figure size 432x288 with 1 Axes>"
      ]
     },
     "metadata": {
      "needs_background": "light"
     },
     "output_type": "display_data"
    },
    {
     "data": {
      "image/png": "[encoded data removed]",
      "text/plain": [
       "<Figure size 432x288 with 1 Axes>"
      ]
     },
     "metadata": {
      "needs_background": "light"
     },
     "output_type": "display_data"
    }
   ],
   "source": [
    "# Plot history\n",
    "plot_history(history, line1='accuracy', line2='val_accuracy',\n",
    "             x_as = 'Epochs', y_as = 'Accuracy', title = 'neural-network-3.0-transfer-learning-vgg16 Accuracy')\n",
    "\n",
    "plot_history(history, line1='loss', line2='val_loss',\n",
    "             x_as = 'Epochs', y_as = 'Loss', title = 'neural-network-3.0-transfer-learning-vgg16 Loss')"
   ]
  },
  {
   "cell_type": "code",
   "execution_count": null,
   "metadata": {},
   "outputs": [],
   "source": []
  },
  {
   "cell_type": "code",
   "execution_count": null,
   "metadata": {},
   "outputs": [],
   "source": []
  },
  {
   "cell_type": "code",
   "execution_count": null,
   "metadata": {},
   "outputs": [],
   "source": []
  },
  {
   "cell_type": "code",
   "execution_count": null,
   "metadata": {},
   "outputs": [],
   "source": []
  },
  {
   "cell_type": "code",
   "execution_count": null,
   "metadata": {},
   "outputs": [],
   "source": []
  },
  {
   "cell_type": "code",
   "execution_count": null,
   "metadata": {},
   "outputs": [],
   "source": []
  },
  {
   "cell_type": "code",
   "execution_count": null,
   "metadata": {},
   "outputs": [],
   "source": []
  },
  {
   "cell_type": "code",
   "execution_count": null,
   "metadata": {},
   "outputs": [],
   "source": []
  }
 ],
 "metadata": {
  "kernelspec": {
   "display_name": "Python 3",
   "language": "python",
   "name": "python3"
  },
  "language_info": {
   "codemirror_mode": {
    "name": "ipython",
    "version": 3
   },
   "file_extension": ".py",
   "mimetype": "text/x-python",
   "name": "python",
   "nbconvert_exporter": "python",
   "pygments_lexer": "ipython3",
   "version": "3.7.6"
  }
 },
 "nbformat": 4,
 "nbformat_minor": 4
}
