{
 "cells": [
  {
   "cell_type": "markdown",
   "metadata": {},
   "source": [
    "# Neural Networks\n",
    "This notebook runs multiple different neural networks."
   ]
  },
  {
   "cell_type": "markdown",
   "metadata": {},
   "source": [
    "<br><br><br><br>\n",
    "# Libaries & Global variables"
   ]
  },
  {
   "cell_type": "markdown",
   "metadata": {},
   "source": [
    "## Libaries"
   ]
  },
  {
   "cell_type": "code",
   "execution_count": 39,
   "metadata": {},
   "outputs": [
    {
     "name": "stderr",
     "output_type": "stream",
     "text": [
      "C:\\Users\\Paulo\\AppData\\Local\\Continuum\\anaconda3\\lib\\site-packages\\ipykernel_launcher.py:7: FutureWarning: Passing a negative integer is deprecated in version 1.0 and will not be supported in future version. Instead, use None to not limit the column width.\n",
      "  import sys\n"
     ]
    }
   ],
   "source": [
    "# General libaries\n",
    "import os, shutil\n",
    "import pandas as pd\n",
    "import numpy as np\n",
    "import pickle\n",
    "\n",
    "pd.set_option('max_colwidth', -1)\n",
    "pd.set_option(\"display.max_rows\", 100)"
   ]
  },
  {
   "cell_type": "markdown",
   "metadata": {},
   "source": [
    "## Global variables"
   ]
  },
  {
   "cell_type": "code",
   "execution_count": 40,
   "metadata": {},
   "outputs": [],
   "source": [
    "dataset_path = os.path.join(os.getcwd(), 'datasets', 'UTKface-new-structure')"
   ]
  },
  {
   "cell_type": "code",
   "execution_count": 41,
   "metadata": {},
   "outputs": [],
   "source": [
    "training_path   = os.path.join(os.getcwd(), 'datasets', 'UTKface-new-structure', 'training')\n",
    "validation_path = os.path.join(os.getcwd(), 'datasets', 'UTKface-new-structure', 'validation')\n",
    "test_path       = os.path.join(os.getcwd(), 'datasets', 'UTKface-new-structure', 'test')"
   ]
  },
  {
   "cell_type": "markdown",
   "metadata": {},
   "source": [
    "<br><br><br><br>\n",
    "# General functions"
   ]
  },
  {
   "cell_type": "code",
   "execution_count": 88,
   "metadata": {},
   "outputs": [],
   "source": [
    "def load_dataset():\n",
    "    \"\"\"\n",
    "    This function loads the dataset.\n",
    "    \"\"\"\n",
    "    with open('df.pkl', 'rb') as input_file:\n",
    "        df = pickle.load(input_file)\n",
    "        \n",
    "    return df\n",
    "\n",
    "\n",
    "def save_history_model(history, filename, storage_location):\n",
    "    \"\"\"\n",
    "    This function pickles the history of a model and stores it\n",
    "    at the storage_location with the given filename.\n",
    "    \"\"\"\n",
    "    \n",
    "    # Pickle the result\n",
    "    location = os.path.join(storage_location, filename + '.pkl')\n",
    "    \n",
    "    with open(location, 'wb') as output_file:\n",
    "        pickle.dump(history, output_file)\n",
    "        \n",
    "def plot_history(history, x_as, y_as, title, line1='accuracy', line2='val_accuracy'):\n",
    "    \"\"\"\n",
    "    This function plots two lines, which as default are accuracy\n",
    "    and val_accuracy.\n",
    "    \"\"\"\n",
    "    \n",
    "    history = history.history\n",
    "    \n",
    "    plt.plot(range(1, len(history[line1]) + 1), history[line1])\n",
    "    plt.plot(range(1, len(history[line2]) + 1), history[line2])\n",
    "    plt.xlabel(x_as)\n",
    "    plt.ylabel(y_as)\n",
    "    plt.title(title)\n",
    "    plt.legend([line1, line2])\n",
    "    plt.show()"
   ]
  },
  {
   "cell_type": "code",
   "execution_count": 43,
   "metadata": {},
   "outputs": [
    {
     "data": {
      "text/html": [
       "<div>\n",
       "<style scoped>\n",
       "    .dataframe tbody tr th:only-of-type {\n",
       "        vertical-align: middle;\n",
       "    }\n",
       "\n",
       "    .dataframe tbody tr th {\n",
       "        vertical-align: top;\n",
       "    }\n",
       "\n",
       "    .dataframe thead th {\n",
       "        text-align: right;\n",
       "    }\n",
       "</style>\n",
       "<table border=\"1\" class=\"dataframe\">\n",
       "  <thead>\n",
       "    <tr style=\"text-align: right;\">\n",
       "      <th></th>\n",
       "      <th>age</th>\n",
       "      <th>age-binned</th>\n",
       "      <th>gender</th>\n",
       "      <th>race</th>\n",
       "      <th>datetime</th>\n",
       "      <th>category</th>\n",
       "      <th>path</th>\n",
       "    </tr>\n",
       "  </thead>\n",
       "  <tbody>\n",
       "    <tr>\n",
       "      <th>4</th>\n",
       "      <td>10</td>\n",
       "      <td>(0, 10]</td>\n",
       "      <td>0</td>\n",
       "      <td>0</td>\n",
       "      <td>20161220222308131</td>\n",
       "      <td>training</td>\n",
       "      <td>C:\\Users\\Paulo\\Documents\\GitHub\\deep-learning-age-estimation\\notebooks\\datasets\\UTKface-new-structure\\training\\10</td>\n",
       "    </tr>\n",
       "    <tr>\n",
       "      <th>5</th>\n",
       "      <td>10</td>\n",
       "      <td>(0, 10]</td>\n",
       "      <td>0</td>\n",
       "      <td>0</td>\n",
       "      <td>20170103200329407</td>\n",
       "      <td>training</td>\n",
       "      <td>C:\\Users\\Paulo\\Documents\\GitHub\\deep-learning-age-estimation\\notebooks\\datasets\\UTKface-new-structure\\training\\10</td>\n",
       "    </tr>\n",
       "    <tr>\n",
       "      <th>6</th>\n",
       "      <td>10</td>\n",
       "      <td>(0, 10]</td>\n",
       "      <td>0</td>\n",
       "      <td>0</td>\n",
       "      <td>20170103200522151</td>\n",
       "      <td>training</td>\n",
       "      <td>C:\\Users\\Paulo\\Documents\\GitHub\\deep-learning-age-estimation\\notebooks\\datasets\\UTKface-new-structure\\training\\10</td>\n",
       "    </tr>\n",
       "    <tr>\n",
       "      <th>7</th>\n",
       "      <td>10</td>\n",
       "      <td>(0, 10]</td>\n",
       "      <td>0</td>\n",
       "      <td>0</td>\n",
       "      <td>20170103233459275</td>\n",
       "      <td>validation</td>\n",
       "      <td>C:\\Users\\Paulo\\Documents\\GitHub\\deep-learning-age-estimation\\notebooks\\datasets\\UTKface-new-structure\\validation\\10</td>\n",
       "    </tr>\n",
       "    <tr>\n",
       "      <th>8</th>\n",
       "      <td>10</td>\n",
       "      <td>(0, 10]</td>\n",
       "      <td>0</td>\n",
       "      <td>0</td>\n",
       "      <td>20170104013211746</td>\n",
       "      <td>training</td>\n",
       "      <td>C:\\Users\\Paulo\\Documents\\GitHub\\deep-learning-age-estimation\\notebooks\\datasets\\UTKface-new-structure\\training\\10</td>\n",
       "    </tr>\n",
       "  </tbody>\n",
       "</table>\n",
       "</div>"
      ],
      "text/plain": [
       "   age age-binned gender race           datetime    category  \\\n",
       "4  10   (0, 10]    0      0    20161220222308131  training     \n",
       "5  10   (0, 10]    0      0    20170103200329407  training     \n",
       "6  10   (0, 10]    0      0    20170103200522151  training     \n",
       "7  10   (0, 10]    0      0    20170103233459275  validation   \n",
       "8  10   (0, 10]    0      0    20170104013211746  training     \n",
       "\n",
       "                                                                                                                  path  \n",
       "4  C:\\Users\\Paulo\\Documents\\GitHub\\deep-learning-age-estimation\\notebooks\\datasets\\UTKface-new-structure\\training\\10    \n",
       "5  C:\\Users\\Paulo\\Documents\\GitHub\\deep-learning-age-estimation\\notebooks\\datasets\\UTKface-new-structure\\training\\10    \n",
       "6  C:\\Users\\Paulo\\Documents\\GitHub\\deep-learning-age-estimation\\notebooks\\datasets\\UTKface-new-structure\\training\\10    \n",
       "7  C:\\Users\\Paulo\\Documents\\GitHub\\deep-learning-age-estimation\\notebooks\\datasets\\UTKface-new-structure\\validation\\10  \n",
       "8  C:\\Users\\Paulo\\Documents\\GitHub\\deep-learning-age-estimation\\notebooks\\datasets\\UTKface-new-structure\\training\\10    "
      ]
     },
     "execution_count": 43,
     "metadata": {},
     "output_type": "execute_result"
    }
   ],
   "source": [
    "df = load_dataset()\n",
    "df.head()"
   ]
  },
  {
   "cell_type": "markdown",
   "metadata": {},
   "source": [
    "<br><br><br><br><br><br><br><br>\n",
    "# Neural Network 1 - LeNet-5 CNN Architecture\n",
    "* Sithungu, S., & Van der Haar, D. (2019). Real-Time Age Detection Using a Convolutional Neural Network. *Business Information Systems*, 245–256. https://doi.org/10.1007/978-3-030-20482-2_20\n",
    "* Information of LeNet-5 CNN architecture https://engmrk.com/lenet-5-a-classic-cnn-architecture/\n",
    "\n",
    "\n",
    "<br>\n",
    "\n",
    "The LetNet-5 structure consists of:\n",
    "* Layer 1 - Input: 32x32 grayscale image with 6 feature maps of size 5x5 and stride 1.\n",
    "* Layer 2 - Average pooling with filter size 2x2 and stride 2.\n",
    "* Layer 3 - Conv layer with 16 feature maps of size 5x5 and stride 1.\n",
    "* Layer 4 - Average pooling with filter size 2x2 and stride 2.\n",
    "* Layer 5 - Fully connected layer with 120 units/feature maps of size 1x1.\n",
    "* Layer 6 - Fully connected layer with 84 units."
   ]
  },
  {
   "cell_type": "markdown",
   "metadata": {},
   "source": [
    "<br><br>\n",
    "## Libaries"
   ]
  },
  {
   "cell_type": "code",
   "execution_count": 64,
   "metadata": {},
   "outputs": [],
   "source": [
    "# General libaries\n",
    "import pandas as pd\n",
    "import numpy as np\n",
    "import os\n",
    "\n",
    "# Neural network related\n",
    "import keras\n",
    "from keras import models\n",
    "from keras.layers import Conv2D, MaxPooling2D, Dropout, Flatten, Dense, Activation, BatchNormalization\n",
    "from keras import layers\n",
    "from keras.preprocessing.image import ImageDataGenerator # To create an image generator to create batches of images\n",
    "from keras.preprocessing import image # To change images to an np array AND visualize the image\n",
    "from keras import optimizers # to optimize\n",
    "\n",
    "# Visualizing\n",
    "import matplotlib.pyplot as plt\n",
    "\n",
    "# To clear ram\n",
    "from tensorflow.keras import backend as K\n",
    "K.clear_session()\n",
    "\n",
    "# To get information about ram\n",
    "import multiprocessing"
   ]
  },
  {
   "cell_type": "markdown",
   "metadata": {},
   "source": [
    "<br><br>\n",
    "## Functions"
   ]
  },
  {
   "cell_type": "code",
   "execution_count": 66,
   "metadata": {},
   "outputs": [
    {
     "name": "stdout",
     "output_type": "stream",
     "text": [
      "Model: \"sequential_2\"\n",
      "_________________________________________________________________\n",
      "Layer (type)                 Output Shape              Param #   \n",
      "=================================================================\n",
      "conv2d_3 (Conv2D)            (None, 30, 30, 6)         60        \n",
      "_________________________________________________________________\n",
      "average_pooling2d_3 (Average (None, 29, 29, 6)         0         \n",
      "_________________________________________________________________\n",
      "conv2d_4 (Conv2D)            (None, 27, 27, 16)        880       \n",
      "_________________________________________________________________\n",
      "average_pooling2d_4 (Average (None, 26, 26, 16)        0         \n",
      "_________________________________________________________________\n",
      "flatten_2 (Flatten)          (None, 10816)             0         \n",
      "_________________________________________________________________\n",
      "dense_4 (Dense)              (None, 120)               1298040   \n",
      "_________________________________________________________________\n",
      "dense_5 (Dense)              (None, 84)                10164     \n",
      "_________________________________________________________________\n",
      "dense_6 (Dense)              (None, 7)                 595       \n",
      "=================================================================\n",
      "Total params: 1,309,739\n",
      "Trainable params: 1,309,739\n",
      "Non-trainable params: 0\n",
      "_________________________________________________________________\n"
     ]
    }
   ],
   "source": [
    "def build_dense_model():\n",
    "    \"\"\"\n",
    "    This function creates a simple sequential neural network.\n",
    "    \"\"\"\n",
    "    # Sequential model\n",
    "    model = models.Sequential() \n",
    "    \n",
    "    # Hidden layers\n",
    "    model.add(layers.Conv2D(filters     = 6, \n",
    "                            kernel_size = (3,3), \n",
    "                            activation  = 'relu', \n",
    "                            input_shape = (32, 32, 1)))\n",
    "    model.add(layers.AveragePooling2D(pool_size = (2,2), \n",
    "                                      strides   = 1))\n",
    "    \n",
    "    model.add(layers.Conv2D(filters     = 16, \n",
    "                            kernel_size = (3,3), \n",
    "                            activation  = 'relu'))\n",
    "    model.add(layers.AveragePooling2D(pool_size = (2,2), \n",
    "                                      strides   = 1))    \n",
    "    \n",
    "    \n",
    "    model.add(layers.Flatten())\n",
    "    \n",
    "    model.add(layers.Dense(units = 120, \n",
    "                           activation='relu'))\n",
    "    model.add(layers.Dense(units = 84, \n",
    "                           activation='relu'))\n",
    "    \n",
    "    # Output layer\n",
    "    model.add(layers.Dense(units = 7, \n",
    "                           activation='relu'))\n",
    "    \n",
    "    # Compiler\n",
    "    model.compile(optimizer = 'rmsprop', loss='categorical_crossentropy', metrics=['accuracy'])      \n",
    "        \n",
    "    return model\n",
    "\n",
    "model = build_dense_model()\n",
    "model.summary()"
   ]
  },
  {
   "cell_type": "markdown",
   "metadata": {},
   "source": [
    "<br><br>\n",
    "## Generator"
   ]
  },
  {
   "cell_type": "code",
   "execution_count": 67,
   "metadata": {},
   "outputs": [
    {
     "name": "stdout",
     "output_type": "stream",
     "text": [
      "Found 15990 images belonging to 7 classes.\n",
      "Found 4584 images belonging to 7 classes.\n",
      "Found 2263 images belonging to 7 classes.\n"
     ]
    }
   ],
   "source": [
    "# Define image generators objects\n",
    "train_datagen      = ImageDataGenerator(rescale=1./255)\n",
    "validation_datagen = ImageDataGenerator(rescale=1./255)\n",
    "test_datagen       = ImageDataGenerator(rescale=1./255)\n",
    "\n",
    "# Create image generators\n",
    "TARGET_SIZE = (32, 32)\n",
    "COLOR_MODE  = 'grayscale'\n",
    "BATCH_SIZE  = 32\n",
    "\n",
    "train_generator    = train_datagen.flow_from_directory(directory   = training_path,\n",
    "                                                       target_size = TARGET_SIZE,\n",
    "                                                       color_mode  = COLOR_MODE,\n",
    "                                                       batch_size  = BATCH_SIZE)\n",
    "\n",
    "validation_datagen = train_datagen.flow_from_directory(directory   = validation_path,\n",
    "                                                       target_size = TARGET_SIZE,\n",
    "                                                       color_mode  = COLOR_MODE,\n",
    "                                                       batch_size  = BATCH_SIZE)\n",
    "\n",
    "test_generator     = test_datagen.flow_from_directory(directory    = test_path,\n",
    "                                                      target_size  = TARGET_SIZE,\n",
    "                                                      color_mode   = COLOR_MODE,\n",
    "                                                      batch_size   = BATCH_SIZE)"
   ]
  },
  {
   "cell_type": "markdown",
   "metadata": {},
   "source": [
    "<br><br><br>\n",
    "## Run the model"
   ]
  },
  {
   "cell_type": "code",
   "execution_count": 70,
   "metadata": {},
   "outputs": [
    {
     "name": "stdout",
     "output_type": "stream",
     "text": [
      "Model: \"sequential_1\"\n",
      "_________________________________________________________________\n",
      "Layer (type)                 Output Shape              Param #   \n",
      "=================================================================\n",
      "conv2d_1 (Conv2D)            (None, 30, 30, 6)         60        \n",
      "_________________________________________________________________\n",
      "average_pooling2d_1 (Average (None, 29, 29, 6)         0         \n",
      "_________________________________________________________________\n",
      "conv2d_2 (Conv2D)            (None, 27, 27, 16)        880       \n",
      "_________________________________________________________________\n",
      "average_pooling2d_2 (Average (None, 26, 26, 16)        0         \n",
      "_________________________________________________________________\n",
      "flatten_1 (Flatten)          (None, 10816)             0         \n",
      "_________________________________________________________________\n",
      "dense_1 (Dense)              (None, 120)               1298040   \n",
      "_________________________________________________________________\n",
      "dense_2 (Dense)              (None, 84)                10164     \n",
      "_________________________________________________________________\n",
      "dense_3 (Dense)              (None, 7)                 595       \n",
      "=================================================================\n",
      "Total params: 1,309,739\n",
      "Trainable params: 1,309,739\n",
      "Non-trainable params: 0\n",
      "_________________________________________________________________\n"
     ]
    }
   ],
   "source": [
    "K.clear_session()\n",
    "\n",
    "model = build_dense_model()\n",
    "model.summary()"
   ]
  },
  {
   "cell_type": "code",
   "execution_count": 73,
   "metadata": {
    "scrolled": true
   },
   "outputs": [
    {
     "name": "stdout",
     "output_type": "stream",
     "text": [
      "Epoch 1/50\n",
      "499/499 [==============================] - 165s 330ms/step - loss: 2.3260 - accuracy: 0.3957 - val_loss: 1.9550 - val_accuracy: 0.3955\n",
      "Epoch 2/50\n",
      "499/499 [==============================] - 174s 349ms/step - loss: 2.3154 - accuracy: 0.4068 - val_loss: 3.2188 - val_accuracy: 0.3897\n",
      "Epoch 3/50\n",
      "499/499 [==============================] - 163s 328ms/step - loss: 2.2919 - accuracy: 0.4064 - val_loss: 1.5205 - val_accuracy: 0.3963\n",
      "Epoch 4/50\n",
      "499/499 [==============================] - 163s 326ms/step - loss: 2.3084 - accuracy: 0.4120 - val_loss: 3.3265 - val_accuracy: 0.3917\n",
      "Epoch 5/50\n",
      "499/499 [==============================] - 163s 326ms/step - loss: 2.3067 - accuracy: 0.4126 - val_loss: 2.1838 - val_accuracy: 0.3970\n",
      "Epoch 6/50\n",
      "499/499 [==============================] - 165s 330ms/step - loss: 2.3351 - accuracy: 0.4172 - val_loss: 2.9081 - val_accuracy: 0.3981\n",
      "Epoch 7/50\n",
      "499/499 [==============================] - 163s 327ms/step - loss: 2.2895 - accuracy: 0.4178 - val_loss: 2.5914 - val_accuracy: 0.4091\n",
      "Epoch 8/50\n",
      "499/499 [==============================] - 162s 326ms/step - loss: nan - accuracy: 0.3611 - val_loss: nan - val_accuracy: 0.1454\n",
      "Epoch 9/50\n",
      "499/499 [==============================] - 164s 328ms/step - loss: nan - accuracy: 0.1549 - val_loss: nan - val_accuracy: 0.1457\n",
      "Epoch 10/50\n",
      "499/499 [==============================] - 160s 320ms/step - loss: nan - accuracy: 0.1548 - val_loss: nan - val_accuracy: 0.1457\n",
      "Epoch 11/50\n",
      "499/499 [==============================] - 161s 322ms/step - loss: nan - accuracy: 0.1552 - val_loss: nan - val_accuracy: 0.1463\n",
      "Epoch 12/50\n",
      "499/499 [==============================] - 161s 323ms/step - loss: nan - accuracy: 0.1553 - val_loss: nan - val_accuracy: 0.1470\n",
      "Epoch 13/50\n",
      "499/499 [==============================] - 164s 329ms/step - loss: nan - accuracy: 0.1542 - val_loss: nan - val_accuracy: 0.1485\n",
      "Epoch 14/50\n",
      "499/499 [==============================] - 163s 326ms/step - loss: nan - accuracy: 0.1565 - val_loss: nan - val_accuracy: 0.1432\n",
      "Epoch 15/50\n",
      "499/499 [==============================] - 166s 333ms/step - loss: nan - accuracy: 0.1545 - val_loss: nan - val_accuracy: 0.1525\n",
      "Epoch 16/50\n",
      "499/499 [==============================] - 162s 324ms/step - loss: nan - accuracy: 0.1553 - val_loss: nan - val_accuracy: 0.1421\n",
      "Epoch 17/50\n",
      "499/499 [==============================] - 160s 320ms/step - loss: nan - accuracy: 0.1545 - val_loss: nan - val_accuracy: 0.1467\n",
      "Epoch 18/50\n",
      "499/499 [==============================] - 162s 325ms/step - loss: nan - accuracy: 0.1555 - val_loss: nan - val_accuracy: 0.1476\n",
      "Epoch 19/50\n",
      "499/499 [==============================] - 160s 321ms/step - loss: nan - accuracy: 0.1545 - val_loss: nan - val_accuracy: 0.1450\n",
      "Epoch 20/50\n",
      "499/499 [==============================] - 162s 324ms/step - loss: nan - accuracy: 0.1545 - val_loss: nan - val_accuracy: 0.1476\n",
      "Epoch 21/50\n",
      "499/499 [==============================] - 166s 332ms/step - loss: nan - accuracy: 0.1562 - val_loss: nan - val_accuracy: 0.1467\n",
      "Epoch 22/50\n",
      "499/499 [==============================] - 166s 334ms/step - loss: nan - accuracy: 0.1556 - val_loss: nan - val_accuracy: 0.1478\n",
      "Epoch 23/50\n",
      "499/499 [==============================] - 166s 333ms/step - loss: nan - accuracy: 0.1542 - val_loss: nan - val_accuracy: 0.1461\n",
      "Epoch 24/50\n",
      "499/499 [==============================] - 168s 336ms/step - loss: nan - accuracy: 0.1557 - val_loss: nan - val_accuracy: 0.1489\n",
      "Epoch 25/50\n",
      "499/499 [==============================] - 168s 338ms/step - loss: nan - accuracy: 0.1553 - val_loss: nan - val_accuracy: 0.1397\n",
      "Epoch 26/50\n",
      "499/499 [==============================] - 166s 332ms/step - loss: nan - accuracy: 0.1545 - val_loss: nan - val_accuracy: 0.1489\n",
      "Epoch 27/50\n",
      "499/499 [==============================] - 169s 339ms/step - loss: nan - accuracy: 0.1549 - val_loss: nan - val_accuracy: 0.1478\n",
      "Epoch 28/50\n",
      "499/499 [==============================] - 164s 329ms/step - loss: nan - accuracy: 0.1568 - val_loss: nan - val_accuracy: 0.1487\n",
      "Epoch 29/50\n",
      "499/499 [==============================] - 166s 332ms/step - loss: nan - accuracy: 0.1535 - val_loss: nan - val_accuracy: 0.1459\n",
      "Epoch 30/50\n",
      "499/499 [==============================] - 167s 334ms/step - loss: nan - accuracy: 0.1545 - val_loss: nan - val_accuracy: 0.1437\n",
      "Epoch 31/50\n",
      "499/499 [==============================] - 169s 339ms/step - loss: nan - accuracy: 0.1562 - val_loss: nan - val_accuracy: 0.1465\n",
      "Epoch 32/50\n",
      "499/499 [==============================] - 166s 333ms/step - loss: nan - accuracy: 0.1559 - val_loss: nan - val_accuracy: 0.1492\n",
      "Epoch 33/50\n",
      "499/499 [==============================] - 165s 330ms/step - loss: nan - accuracy: 0.1537 - val_loss: nan - val_accuracy: 0.1452\n",
      "Epoch 34/50\n",
      "499/499 [==============================] - 164s 328ms/step - loss: nan - accuracy: 0.1547 - val_loss: nan - val_accuracy: 0.1507\n",
      "Epoch 35/50\n",
      "499/499 [==============================] - 163s 326ms/step - loss: nan - accuracy: 0.1550 - val_loss: nan - val_accuracy: 0.1439\n",
      "Epoch 36/50\n",
      "499/499 [==============================] - 151s 304ms/step - loss: nan - accuracy: 0.1558 - val_loss: nan - val_accuracy: 0.1439\n",
      "Epoch 37/50\n",
      "499/499 [==============================] - 159s 318ms/step - loss: nan - accuracy: 0.1562 - val_loss: nan - val_accuracy: 0.1452\n",
      "Epoch 38/50\n",
      "499/499 [==============================] - 150s 300ms/step - loss: nan - accuracy: 0.1536 - val_loss: nan - val_accuracy: 0.1474\n",
      "Epoch 39/50\n",
      "499/499 [==============================] - 179s 359ms/step - loss: nan - accuracy: 0.1557 - val_loss: nan - val_accuracy: 0.1481\n",
      "Epoch 40/50\n",
      "499/499 [==============================] - 151s 303ms/step - loss: nan - accuracy: 0.1549 - val_loss: nan - val_accuracy: 0.1505\n",
      "Epoch 41/50\n",
      "499/499 [==============================] - 148s 296ms/step - loss: nan - accuracy: 0.1570 - val_loss: nan - val_accuracy: 0.1465\n",
      "Epoch 42/50\n",
      "499/499 [==============================] - 177s 355ms/step - loss: nan - accuracy: 0.1532 - val_loss: nan - val_accuracy: 0.1443\n",
      "Epoch 43/50\n",
      "499/499 [==============================] - 171s 342ms/step - loss: nan - accuracy: 0.1543 - val_loss: nan - val_accuracy: 0.1446\n",
      "Epoch 44/50\n",
      "499/499 [==============================] - 162s 325ms/step - loss: nan - accuracy: 0.1564 - val_loss: nan - val_accuracy: 0.1492\n",
      "Epoch 45/50\n",
      "499/499 [==============================] - 160s 320ms/step - loss: nan - accuracy: 0.1551 - val_loss: nan - val_accuracy: 0.1439\n",
      "Epoch 46/50\n",
      "499/499 [==============================] - 155s 311ms/step - loss: nan - accuracy: 0.1551 - val_loss: nan - val_accuracy: 0.1522\n",
      "Epoch 47/50\n",
      "499/499 [==============================] - 159s 319ms/step - loss: nan - accuracy: 0.1538 - val_loss: nan - val_accuracy: 0.1441\n",
      "Epoch 48/50\n",
      "499/499 [==============================] - 169s 338ms/step - loss: nan - accuracy: 0.1560 - val_loss: nan - val_accuracy: 0.1467\n",
      "Epoch 49/50\n",
      "499/499 [==============================] - 157s 314ms/step - loss: nan - accuracy: 0.1542 - val_loss: nan - val_accuracy: 0.1461\n",
      "Epoch 50/50\n",
      "499/499 [==============================] - 146s 293ms/step - loss: nan - accuracy: 0.1548 - val_loss: nan - val_accuracy: 0.1465\n"
     ]
    }
   ],
   "source": [
    "history = model.fit_generator(generator           = train_generator,\n",
    "                              steps_per_epoch     = train_generator.n // train_generator.batch_size,\n",
    "                              epochs              = 50,\n",
    "                              validation_data     = validation_datagen,\n",
    "                              validation_steps    = validation_datagen.n // validation_datagen.batch_size,\n",
    "                              verbose             = 1,\n",
    "                              workers             = (multiprocessing.cpu_count() - 1),\n",
    "                              use_multiprocessing = False  # Not sure why it should be false, gives an error when true.\n",
    "                             )"
   ]
  },
  {
   "cell_type": "markdown",
   "metadata": {},
   "source": [
    "<br><br><br>\n",
    "## Save results and plot results"
   ]
  },
  {
   "cell_type": "code",
   "execution_count": 90,
   "metadata": {},
   "outputs": [],
   "source": [
    "# Save results\n",
    "model.save_weights('models-and-results/lenet-5-1.0-weights.h5')\n",
    "model.save('models-and-results/lenet-5-1.0-model.h5')\n",
    "save_history_model(history          = history,\n",
    "                   filename         = 'lenet-5-1.0-history', \n",
    "                   storage_location = 'models-and-results')"
   ]
  },
  {
   "cell_type": "code",
   "execution_count": 91,
   "metadata": {},
   "outputs": [
    {
     "data": {
      "image/png": "[encoded data removed]",
      "text/plain": [
       "<Figure size 432x288 with 1 Axes>"
      ]
     },
     "metadata": {
      "needs_background": "light"
     },
     "output_type": "display_data"
    },
    {
     "data": {
      "image/png": "[encoded data removed]",
      "text/plain": [
       "<Figure size 432x288 with 1 Axes>"
      ]
     },
     "metadata": {
      "needs_background": "light"
     },
     "output_type": "display_data"
    }
   ],
   "source": [
    "# Plot history\n",
    "plot_history(history, line1='accuracy', line2='val_accuracy',\n",
    "             x_as = 'Epochs', y_as = 'Accuracy', title = 'LeNet-5-1.0 Accuracy')\n",
    "\n",
    "plot_history(history, line1='loss', line2='val_loss',\n",
    "             x_as = 'Epochs', y_as = 'Loss', title = 'LeNet-5-1.0 Loss')"
   ]
  },
  {
   "cell_type": "markdown",
   "metadata": {},
   "source": [
    "------\n",
    "\n",
    "<br><br><br><br>\n",
    "# Neural Network 2 - LeNet-5 CNN (proposed improved version)"
   ]
  },
  {
   "cell_type": "markdown",
   "metadata": {},
   "source": [
    "<br><br>\n",
    "## Libaries"
   ]
  },
  {
   "cell_type": "code",
   "execution_count": 104,
   "metadata": {},
   "outputs": [],
   "source": [
    "# General libaries\n",
    "import pandas as pd\n",
    "import numpy as np\n",
    "import os\n",
    "\n",
    "# Neural network related\n",
    "import keras\n",
    "from keras import models\n",
    "from keras.layers import Conv2D, MaxPooling2D, Dropout, Flatten, Dense, Activation, BatchNormalization\n",
    "from keras import layers\n",
    "from keras.preprocessing.image import ImageDataGenerator # To create an image generator to create batches of images\n",
    "from keras.preprocessing import image # To change images to an np array AND visualize the image\n",
    "from keras import optimizers # to optimize\n",
    "\n",
    "# Visualizing\n",
    "import matplotlib.pyplot as plt\n",
    "\n",
    "# To clear ram\n",
    "from tensorflow.keras import backend as K\n",
    "K.clear_session()\n",
    "\n",
    "# To get information about ram\n",
    "import multiprocessing"
   ]
  },
  {
   "cell_type": "markdown",
   "metadata": {},
   "source": [
    "<br><br>\n",
    "## Functions"
   ]
  },
  {
   "cell_type": "code",
   "execution_count": 105,
   "metadata": {},
   "outputs": [
    {
     "name": "stdout",
     "output_type": "stream",
     "text": [
      "Model: \"sequential_1\"\n",
      "_________________________________________________________________\n",
      "Layer (type)                 Output Shape              Param #   \n",
      "=================================================================\n",
      "conv2d_1 (Conv2D)            (None, 194, 194, 6)       888       \n",
      "_________________________________________________________________\n",
      "max_pooling2d_1 (MaxPooling2 (None, 97, 97, 6)         0         \n",
      "_________________________________________________________________\n",
      "conv2d_2 (Conv2D)            (None, 95, 95, 16)        880       \n",
      "_________________________________________________________________\n",
      "max_pooling2d_2 (MaxPooling2 (None, 47, 47, 16)        0         \n",
      "_________________________________________________________________\n",
      "flatten_1 (Flatten)          (None, 35344)             0         \n",
      "_________________________________________________________________\n",
      "dense_1 (Dense)              (None, 120)               4241400   \n",
      "_________________________________________________________________\n",
      "dropout_1 (Dropout)          (None, 120)               0         \n",
      "_________________________________________________________________\n",
      "dense_2 (Dense)              (None, 7)                 847       \n",
      "=================================================================\n",
      "Total params: 4,244,015\n",
      "Trainable params: 4,244,015\n",
      "Non-trainable params: 0\n",
      "_________________________________________________________________\n"
     ]
    }
   ],
   "source": [
    "def build_model():\n",
    "    \"\"\"\n",
    "    This function creates a simple sequential neural network.\n",
    "    \"\"\"\n",
    "    # Sequential model\n",
    "    model = models.Sequential() \n",
    "    \n",
    "    # Hidden layers\n",
    "    model.add(layers.Conv2D(filters     = 6, \n",
    "                            kernel_size = (7, 7),        # Fiters from (3, 3) to (7, 7)\n",
    "                            activation  = 'relu', \n",
    "                            input_shape = (200, 200, 3)))\n",
    "    model.add(layers.MaxPooling2D(pool_size = (2,2), \n",
    "                                      strides   = 2))     # Assumed based on trial and error, not mentioned in the paper\n",
    "    \n",
    "    model.add(layers.Conv2D(filters     = 16, \n",
    "                            kernel_size = (3,3), \n",
    "                            activation  = 'relu'))\n",
    "    model.add(layers.MaxPooling2D(pool_size = (2,2), \n",
    "                                      strides   = 2))     # Assumed based on trial and error, not mentioned in the paper\n",
    "    \n",
    "    \n",
    "    model.add(layers.Flatten())\n",
    "    \n",
    "    model.add(layers.Dense(units = 120, \n",
    "                           activation='relu'))\n",
    "    model.add(layers.Dropout(rate = 0.5))                # Dropout layer added\n",
    "    \n",
    "    # Output layer\n",
    "    model.add(layers.Dense(units = 7, \n",
    "                           activation='softmax'))        # Softmax instead of relu\n",
    "    \n",
    "    # Compiler\n",
    "    model.compile(optimizer = 'rmsprop', loss='categorical_crossentropy', metrics=['accuracy'])      \n",
    "        \n",
    "    return model\n",
    "\n",
    "model = build_model()\n",
    "model.summary()"
   ]
  },
  {
   "cell_type": "markdown",
   "metadata": {},
   "source": [
    "<br><br>\n",
    "## Generator"
   ]
  },
  {
   "cell_type": "code",
   "execution_count": 106,
   "metadata": {},
   "outputs": [
    {
     "name": "stdout",
     "output_type": "stream",
     "text": [
      "Found 15990 images belonging to 7 classes.\n",
      "Found 4584 images belonging to 7 classes.\n",
      "Found 2263 images belonging to 7 classes.\n"
     ]
    }
   ],
   "source": [
    "# Define image generators objects\n",
    "train_datagen      = ImageDataGenerator(rescale=1./255)\n",
    "validation_datagen = ImageDataGenerator(rescale=1./255)\n",
    "test_datagen       = ImageDataGenerator(rescale=1./255)\n",
    "\n",
    "# Create image generators\n",
    "TARGET_SIZE = (200, 200)\n",
    "COLOR_MODE  = 'rgb'\n",
    "BATCH_SIZE  = 32\n",
    "\n",
    "train_generator    = train_datagen.flow_from_directory(directory   = training_path,\n",
    "                                                       target_size = TARGET_SIZE,\n",
    "                                                       color_mode  = COLOR_MODE,\n",
    "                                                       batch_size  = BATCH_SIZE)\n",
    "\n",
    "validation_datagen = train_datagen.flow_from_directory(directory   = validation_path,\n",
    "                                                       target_size = TARGET_SIZE,\n",
    "                                                       color_mode  = COLOR_MODE,\n",
    "                                                       batch_size  = BATCH_SIZE)\n",
    "\n",
    "test_generator     = test_datagen.flow_from_directory(directory    = test_path,\n",
    "                                                      target_size  = TARGET_SIZE,\n",
    "                                                      color_mode   = COLOR_MODE,\n",
    "                                                      batch_size   = BATCH_SIZE)"
   ]
  },
  {
   "cell_type": "markdown",
   "metadata": {},
   "source": [
    "<br><br><br>\n",
    "## Run the model"
   ]
  },
  {
   "cell_type": "code",
   "execution_count": 108,
   "metadata": {},
   "outputs": [
    {
     "name": "stdout",
     "output_type": "stream",
     "text": [
      "Model: \"sequential_1\"\n",
      "_________________________________________________________________\n",
      "Layer (type)                 Output Shape              Param #   \n",
      "=================================================================\n",
      "conv2d_1 (Conv2D)            (None, 194, 194, 6)       888       \n",
      "_________________________________________________________________\n",
      "max_pooling2d_1 (MaxPooling2 (None, 97, 97, 6)         0         \n",
      "_________________________________________________________________\n",
      "conv2d_2 (Conv2D)            (None, 95, 95, 16)        880       \n",
      "_________________________________________________________________\n",
      "max_pooling2d_2 (MaxPooling2 (None, 47, 47, 16)        0         \n",
      "_________________________________________________________________\n",
      "flatten_1 (Flatten)          (None, 35344)             0         \n",
      "_________________________________________________________________\n",
      "dense_1 (Dense)              (None, 120)               4241400   \n",
      "_________________________________________________________________\n",
      "dropout_1 (Dropout)          (None, 120)               0         \n",
      "_________________________________________________________________\n",
      "dense_2 (Dense)              (None, 7)                 847       \n",
      "=================================================================\n",
      "Total params: 4,244,015\n",
      "Trainable params: 4,244,015\n",
      "Non-trainable params: 0\n",
      "_________________________________________________________________\n"
     ]
    }
   ],
   "source": [
    "K.clear_session()\n",
    "\n",
    "model = build_model()\n",
    "model.summary()"
   ]
  },
  {
   "cell_type": "code",
   "execution_count": 109,
   "metadata": {
    "scrolled": true
   },
   "outputs": [
    {
     "name": "stdout",
     "output_type": "stream",
     "text": [
      "Epoch 1/40\n",
      "499/499 [==============================] - 756s 2s/step - loss: 1.7781 - accuracy: 0.3554 - val_loss: 1.8286 - val_accuracy: 0.3923\n",
      "Epoch 2/40\n",
      "499/499 [==============================] - 871s 2s/step - loss: 1.6370 - accuracy: 0.3969 - val_loss: 1.6635 - val_accuracy: 0.3972\n",
      "Epoch 3/40\n",
      "499/499 [==============================] - 869s 2s/step - loss: 1.5613 - accuracy: 0.4259 - val_loss: 1.5515 - val_accuracy: 0.3864\n",
      "Epoch 4/40\n",
      "499/499 [==============================] - 702s 1s/step - loss: 1.4917 - accuracy: 0.4451 - val_loss: 1.4408 - val_accuracy: 0.3941\n",
      "Epoch 5/40\n",
      "499/499 [==============================] - 715s 1s/step - loss: 1.4064 - accuracy: 0.4840 - val_loss: 1.5658 - val_accuracy: 0.3886\n",
      "Epoch 6/40\n",
      "499/499 [==============================] - 693s 1s/step - loss: 1.2981 - accuracy: 0.5268 - val_loss: 2.0111 - val_accuracy: 0.3787\n",
      "Epoch 7/40\n",
      "499/499 [==============================] - 701s 1s/step - loss: 1.2003 - accuracy: 0.5662 - val_loss: 1.4343 - val_accuracy: 0.3594\n",
      "Epoch 8/40\n",
      "499/499 [==============================] - 696s 1s/step - loss: 1.1008 - accuracy: 0.6013 - val_loss: 3.1664 - val_accuracy: 0.3713\n",
      "Epoch 9/40\n",
      "499/499 [==============================] - 693s 1s/step - loss: 0.9970 - accuracy: 0.6457 - val_loss: 2.0571 - val_accuracy: 0.3673\n",
      "Epoch 10/40\n",
      "499/499 [==============================] - 685s 1s/step - loss: 0.9283 - accuracy: 0.6785 - val_loss: 1.7089 - val_accuracy: 0.3754\n",
      "Epoch 11/40\n",
      "499/499 [==============================] - 687s 1s/step - loss: 0.8331 - accuracy: 0.7121 - val_loss: 2.4775 - val_accuracy: 0.3543\n",
      "Epoch 12/40\n",
      "499/499 [==============================] - 694s 1s/step - loss: 0.7686 - accuracy: 0.7304 - val_loss: 2.6392 - val_accuracy: 0.3603\n",
      "Epoch 13/40\n",
      "499/499 [==============================] - 689s 1s/step - loss: 0.7169 - accuracy: 0.7526 - val_loss: 2.7806 - val_accuracy: 0.3596\n",
      "Epoch 14/40\n",
      "499/499 [==============================] - 687s 1s/step - loss: 0.6437 - accuracy: 0.7779 - val_loss: 2.9289 - val_accuracy: 0.3326\n",
      "Epoch 15/40\n",
      "499/499 [==============================] - 693s 1s/step - loss: 0.6121 - accuracy: 0.7912 - val_loss: 3.3638 - val_accuracy: 0.3594\n",
      "Epoch 16/40\n",
      "499/499 [==============================] - 688s 1s/step - loss: 0.5870 - accuracy: 0.7963 - val_loss: 4.5091 - val_accuracy: 0.3576\n",
      "Epoch 17/40\n",
      "499/499 [==============================] - 690s 1s/step - loss: 0.5575 - accuracy: 0.8159 - val_loss: 2.7288 - val_accuracy: 0.3442\n",
      "Epoch 18/40\n",
      "499/499 [==============================] - 698s 1s/step - loss: 0.5149 - accuracy: 0.8237 - val_loss: 4.9731 - val_accuracy: 0.3434\n",
      "Epoch 19/40\n",
      "499/499 [==============================] - 689s 1s/step - loss: 0.5069 - accuracy: 0.8320 - val_loss: 2.6214 - val_accuracy: 0.3394\n",
      "Epoch 20/40\n",
      "499/499 [==============================] - 700s 1s/step - loss: 0.4910 - accuracy: 0.8388 - val_loss: 3.8061 - val_accuracy: 0.3418\n",
      "Epoch 21/40\n",
      "499/499 [==============================] - 715s 1s/step - loss: 0.4698 - accuracy: 0.8430 - val_loss: 4.1834 - val_accuracy: 0.3456\n",
      "Epoch 22/40\n",
      "499/499 [==============================] - 696s 1s/step - loss: 0.4461 - accuracy: 0.8526 - val_loss: 5.8085 - val_accuracy: 0.3484\n",
      "Epoch 23/40\n",
      "499/499 [==============================] - 696s 1s/step - loss: 0.4479 - accuracy: 0.8528 - val_loss: 4.8106 - val_accuracy: 0.3563\n",
      "Epoch 24/40\n",
      "499/499 [==============================] - 698s 1s/step - loss: 0.4324 - accuracy: 0.8598 - val_loss: 4.1370 - val_accuracy: 0.3372\n",
      "Epoch 25/40\n",
      "499/499 [==============================] - 696s 1s/step - loss: 0.4109 - accuracy: 0.8649 - val_loss: 3.0159 - val_accuracy: 0.3234\n",
      "Epoch 26/40\n",
      "499/499 [==============================] - 697s 1s/step - loss: 0.4115 - accuracy: 0.8694 - val_loss: 2.4102 - val_accuracy: 0.3326\n",
      "Epoch 27/40\n",
      "499/499 [==============================] - 691s 1s/step - loss: 0.3929 - accuracy: 0.8719 - val_loss: 4.4001 - val_accuracy: 0.3308\n",
      "Epoch 28/40\n",
      "499/499 [==============================] - 703s 1s/step - loss: 0.4100 - accuracy: 0.8688 - val_loss: 7.0779 - val_accuracy: 0.3519\n",
      "Epoch 29/40\n",
      "499/499 [==============================] - 693s 1s/step - loss: 0.3811 - accuracy: 0.8749 - val_loss: 3.5191 - val_accuracy: 0.3243\n",
      "Epoch 30/40\n",
      "499/499 [==============================] - 697s 1s/step - loss: 0.3921 - accuracy: 0.8738 - val_loss: 7.7997 - val_accuracy: 0.3440\n",
      "Epoch 31/40\n",
      "499/499 [==============================] - 696s 1s/step - loss: 0.3757 - accuracy: 0.8807 - val_loss: 5.6235 - val_accuracy: 0.3319\n",
      "Epoch 32/40\n",
      "499/499 [==============================] - 689s 1s/step - loss: 0.3894 - accuracy: 0.8789 - val_loss: 3.4103 - val_accuracy: 0.3300\n",
      "Epoch 33/40\n",
      "499/499 [==============================] - 702s 1s/step - loss: 0.3620 - accuracy: 0.8863 - val_loss: 4.4009 - val_accuracy: 0.3302\n",
      "Epoch 34/40\n",
      "499/499 [==============================] - 693s 1s/step - loss: 0.3578 - accuracy: 0.8839 - val_loss: 5.4435 - val_accuracy: 0.3478\n",
      "Epoch 35/40\n",
      "499/499 [==============================] - 700s 1s/step - loss: 0.3689 - accuracy: 0.8836 - val_loss: 6.3940 - val_accuracy: 0.3502\n",
      "Epoch 36/40\n",
      "499/499 [==============================] - 691s 1s/step - loss: 0.3556 - accuracy: 0.8866 - val_loss: 2.8701 - val_accuracy: 0.2990\n",
      "Epoch 37/40\n",
      "499/499 [==============================] - 699s 1s/step - loss: 0.3581 - accuracy: 0.8863 - val_loss: 6.5006 - val_accuracy: 0.3392\n",
      "Epoch 38/40\n",
      "499/499 [==============================] - 706s 1s/step - loss: 0.3597 - accuracy: 0.8879 - val_loss: 4.5357 - val_accuracy: 0.3346\n",
      "Epoch 39/40\n",
      "499/499 [==============================] - 703s 1s/step - loss: 0.3649 - accuracy: 0.8887 - val_loss: 3.4220 - val_accuracy: 0.3216\n",
      "Epoch 40/40\n",
      "499/499 [==============================] - 699s 1s/step - loss: 0.3606 - accuracy: 0.8883 - val_loss: 5.3114 - val_accuracy: 0.3326\n"
     ]
    }
   ],
   "source": [
    "history = model.fit_generator(generator           = train_generator,\n",
    "                              steps_per_epoch     = train_generator.n // train_generator.batch_size,\n",
    "                              epochs              = 40,    # Paper stated that it converged after 20/100 epochs\n",
    "                              validation_data     = validation_datagen,\n",
    "                              validation_steps    = validation_datagen.n // validation_datagen.batch_size,\n",
    "                              verbose             = 1,\n",
    "                              workers             = (multiprocessing.cpu_count() - 1),\n",
    "                              use_multiprocessing = False  # Not sure why it should be false, gives an error when true.\n",
    "                             )"
   ]
  },
  {
   "cell_type": "markdown",
   "metadata": {},
   "source": [
    "<br><br><br>\n",
    "## Save results and plot results"
   ]
  },
  {
   "cell_type": "code",
   "execution_count": 110,
   "metadata": {},
   "outputs": [],
   "source": [
    "# Save results\n",
    "model.save_weights('models-and-results/lenet-5-proposed-model-1.0-weights.h5')\n",
    "model.save('models-and-results/lenet-5-proposed-model-1.0-model.h5')\n",
    "save_history_model(history          = history,\n",
    "                   filename         = 'lenet-5-proposed-model-1.0-model', \n",
    "                   storage_location = 'models-and-results')"
   ]
  },
  {
   "cell_type": "code",
   "execution_count": 111,
   "metadata": {},
   "outputs": [
    {
     "data": {
      "image/png": "[encoded data removed]",
      "text/plain": [
       "<Figure size 432x288 with 1 Axes>"
      ]
     },
     "metadata": {
      "needs_background": "light"
     },
     "output_type": "display_data"
    },
    {
     "data": {
      "image/png": "[encoded data removed]",
      "text/plain": [
       "<Figure size 432x288 with 1 Axes>"
      ]
     },
     "metadata": {
      "needs_background": "light"
     },
     "output_type": "display_data"
    }
   ],
   "source": [
    "# Plot history\n",
    "plot_history(history, line1='accuracy', line2='val_accuracy',\n",
    "             x_as = 'Epochs', y_as = 'Accuracy', title = 'LeNet-5-proposed-model-1.0 Accuracy')\n",
    "\n",
    "plot_history(history, line1='loss', line2='val_loss',\n",
    "             x_as = 'Epochs', y_as = 'Loss', title = 'LeNet-5-proposed-model-1.0 Loss')"
   ]
  },
  {
   "cell_type": "code",
   "execution_count": null,
   "metadata": {},
   "outputs": [],
   "source": []
  }
 ],
 "metadata": {
  "kernelspec": {
   "display_name": "Python 3",
   "language": "python",
   "name": "python3"
  },
  "language_info": {
   "codemirror_mode": {
    "name": "ipython",
    "version": 3
   },
   "file_extension": ".py",
   "mimetype": "text/x-python",
   "name": "python",
   "nbconvert_exporter": "python",
   "pygments_lexer": "ipython3",
   "version": "3.7.6"
  }
 },
 "nbformat": 4,
 "nbformat_minor": 4
}
